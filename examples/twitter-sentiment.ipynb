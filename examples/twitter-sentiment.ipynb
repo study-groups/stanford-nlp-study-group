{
  "nbformat": 4,
  "nbformat_minor": 0,
  "metadata": {
    "colab": {
      "name": "Final Capstone.ipynb",
      "version": "0.3.2",
      "provenance": [],
      "collapsed_sections": [],
      "include_colab_link": true
    },
    "kernelspec": {
      "name": "python3",
      "display_name": "Python 3"
    },
    "accelerator": "GPU"
  },
  "cells": [
    {
      "cell_type": "markdown",
      "metadata": {
        "id": "view-in-github",
        "colab_type": "text"
      },
      "source": [
        "<a href=\"https://colab.research.google.com/github/study-groups/nlp-study-group/blob/master/TwitterSentiment.ipynb\" target=\"_parent\"><img src=\"https://colab.research.google.com/assets/colab-badge.svg\" alt=\"Open In Colab\"/></a>"
      ]
    },
    {
      "metadata": {
        "id": "DZfnbg7GvAUb",
        "colab_type": "text"
      },
      "cell_type": "markdown",
      "source": [
        "# **Project Goals**\n",
        "\n",
        "This project effectively aims to build a Sentiment Classifer using an LSTM Neural Network . Within that scope I have the following sub goals:\n",
        "\n",
        "\n",
        "1.   Evaluate the difference in error between an LSTM NN trained on a full tweet, and one trained on a preprocessed tweet.\n",
        "2.   Evaluate the impact of removing stop words during preprocessing.\n",
        "\n",
        "\n",
        "\n"
      ]
    },
    {
      "metadata": {
        "id": "JZMKRyWUNKhJ",
        "colab_type": "code",
        "colab": {}
      },
      "cell_type": "code",
      "source": [
        ""
      ],
      "execution_count": 0,
      "outputs": []
    },
    {
      "metadata": {
        "id": "5qWWgHIfYRFE",
        "colab_type": "text"
      },
      "cell_type": "markdown",
      "source": [
        "# **Imports**"
      ]
    },
    {
      "metadata": {
        "id": "LzhOzemg687s",
        "colab_type": "code",
        "outputId": "3b7567f8-636a-4220-99f6-52457e99a530",
        "colab": {
          "base_uri": "https://localhost:8080/",
          "height": 339
        }
      },
      "cell_type": "code",
      "source": [
        "# sklearn analytics\n",
        "import seaborn as sns\n",
        "import matplotlib.pyplot as plt\n",
        "%matplotlib inline\n",
        "import matplotlib as mpl\n",
        "import matplotlib.cm as cm\n",
        "from sklearn import metrics\n",
        "from sklearn.metrics import classification_report\n",
        "from sklearn.metrics import roc_auc_score\n",
        "from sklearn.metrics import roc_curve\n",
        "from sklearn.metrics import precision_recall_curve\n",
        "from sklearn.metrics import f1_score\n",
        "from sklearn.metrics import precision_score, recall_score\n",
        "from sklearn.metrics import confusion_matrix\n",
        "from sklearn.model_selection import cross_val_predict\n",
        "from sklearn.model_selection import train_test_split\n",
        "from sklearn.model_selection import cross_val_score\n",
        "from sklearn.model_selection import GridSearchCV\n",
        "\n",
        "# Models\n",
        "from sklearn import cluster\n",
        "from sklearn.cluster import KMeans\n",
        "from sklearn.cluster import MiniBatchKMeans\n",
        "from sklearn.cluster import MeanShift, estimate_bandwidth\n",
        "from sklearn.cluster import SpectralClustering\n",
        "from sklearn.manifold import TSNE\n",
        "from sklearn.svm import LinearSVC\n",
        "from sklearn.naive_bayes import GaussianNB\n",
        "from sklearn.ensemble import RandomForestClassifier\n",
        "from sklearn.linear_model import LogisticRegression\n",
        "from sklearn.cluster import Birch\n",
        "\n",
        "# Text Preprocessing\n",
        "from sklearn.feature_extraction import text\n",
        "from sklearn.feature_extraction.text import TfidfVectorizer, CountVectorizer,\\\n",
        "    TfidfTransformer\n",
        "from sklearn.decomposition import TruncatedSVD\n",
        "from sklearn.preprocessing import Normalizer\n",
        "from sklearn.pipeline import make_pipeline\n",
        "\n",
        "\n",
        "# General\n",
        "import warnings\n",
        "import numpy as np\n",
        "import pandas as pd\n",
        "import nltk\n",
        "import random\n",
        "import os\n",
        "import re\n",
        "import string\n",
        "import statsmodels.api as sm\n",
        "from os import path\n",
        "from PIL import Image\n",
        "from time import time\n",
        "\n",
        "\n",
        "# NLP\n",
        "from nltk import sent_tokenize, word_tokenize\n",
        "from nltk.util import ngrams\n",
        "from nltk.stem import PorterStemmer\n",
        "from nltk.corpus import stopwords\n",
        "nltk.download('stopwords')\n",
        "nltk.download('wordnet')\n",
        "stopwords = stopwords.words('english')\n",
        "from nltk.tokenize import RegexpTokenizer\n",
        "from wordcloud import WordCloud, STOPWORDS\n",
        "from subprocess import check_output\n",
        "from collections import Counter\n",
        "import spacy\n",
        "nlp = spacy.load('en')\n",
        "\n",
        "# Set Plot Theme\n",
        "sns.set_palette([\n",
        "    \"#30a2da\",\n",
        "    \"#fc4f30\",\n",
        "    \"#e5ae38\",\n",
        "    \"#6d904f\",\n",
        "    \"#551A8B\",\n",
        "])\n",
        "\n",
        "# Warnings\n",
        "warnings.filterwarnings('ignore')\n",
        "\n",
        "from google.colab import drive\n",
        "drive.mount('/content/gdrive', force_remount=True)\n",
        "\n",
        "\n",
        "!pip install emoji\n",
        "import emoji\n",
        "\n",
        "from textblob import TextBlob\n",
        "\n",
        "!pip install tweet-preprocessor\n",
        "import preprocessor as p\n",
        "\n",
        "!pip install plotly\n",
        "import plotly\n",
        "\n",
        "#!pip install -q keras\n",
        "#import keras\n",
        "\n",
        "!pip install -U -q PyDrive\n",
        "from pydrive.auth import GoogleAuth\n",
        "from pydrive.drive import GoogleDrive\n",
        "from google.colab import auth\n",
        "from oauth2client.client import GoogleCredentials\n",
        "\n",
        "auth.authenticate_user()\n",
        "gauth = GoogleAuth()\n",
        "gauth.credentials = GoogleCredentials.get_application_default()\n",
        "drive = GoogleDrive(gauth)\n",
        "\n",
        "from os.path import exists\n",
        "from wheel.pep425tags import get_abbr_impl, get_impl_ver, get_abi_tag\n",
        "platform = '{}{}-{}'.format(get_abbr_impl(), get_impl_ver(), get_abi_tag())\n",
        "cuda_output = !ldconfig -p|grep cudart.so|sed -e 's/.*\\.\\([0-9]*\\)\\.\\([0-9]*\\)$/cu\\1\\2/'\n",
        "accelerator = cuda_output[0] if exists('/dev/nvidia0') else 'cpu'\n",
        "\n",
        "!pip install -q http://download.pytorch.org/whl/{accelerator}/torch-0.4.1-{platform}-linux_x86_64.whl torchvision\n",
        "import torch\n",
        "import torchvision\n",
        "\n",
        "\n",
        "# we will verify that GPU is enabled for this notebook\n",
        "# following should print: CUDA is available!  Training on GPU ...\n",
        "# \n",
        "# if it prints otherwise, then you need to enable GPU: \n",
        "# from Menu > Runtime > Change Runtime Type > Hardware Accelerator > GPU\n",
        "\n",
        "import numpy as np\n",
        "\n",
        "# check if CUDA is available\n",
        "train_on_gpu = torch.cuda.is_available()\n",
        "\n",
        "if not train_on_gpu:\n",
        "    print('CUDA is not available.  Training on CPU ...')\n",
        "else:\n",
        "    print('CUDA is available!  Training on GPU ...')"
      ],
      "execution_count": 0,
      "outputs": [
        {
          "output_type": "stream",
          "text": [
            "/usr/local/lib/python3.6/dist-packages/statsmodels/compat/pandas.py:56: FutureWarning: The pandas.core.datetools module is deprecated and will be removed in a future version. Please use the pandas.tseries module instead.\n",
            "  from pandas.core import datetools\n"
          ],
          "name": "stderr"
        },
        {
          "output_type": "stream",
          "text": [
            "[nltk_data] Downloading package stopwords to /root/nltk_data...\n",
            "[nltk_data]   Package stopwords is already up-to-date!\n",
            "[nltk_data] Downloading package wordnet to /root/nltk_data...\n",
            "[nltk_data]   Package wordnet is already up-to-date!\n",
            "Mounted at /content/gdrive\n",
            "Requirement already satisfied: emoji in /usr/local/lib/python3.6/dist-packages (0.5.1)\n",
            "Requirement already satisfied: tweet-preprocessor in /usr/local/lib/python3.6/dist-packages (0.5.0)\n",
            "Requirement already satisfied: plotly in /usr/local/lib/python3.6/dist-packages (1.12.12)\n",
            "Requirement already satisfied: requests in /usr/local/lib/python3.6/dist-packages (from plotly) (2.18.4)\n",
            "Requirement already satisfied: six in /usr/local/lib/python3.6/dist-packages (from plotly) (1.11.0)\n",
            "Requirement already satisfied: pytz in /usr/local/lib/python3.6/dist-packages (from plotly) (2018.9)\n",
            "Requirement already satisfied: urllib3<1.23,>=1.21.1 in /usr/local/lib/python3.6/dist-packages (from requests->plotly) (1.22)\n",
            "Requirement already satisfied: idna<2.7,>=2.5 in /usr/local/lib/python3.6/dist-packages (from requests->plotly) (2.6)\n",
            "Requirement already satisfied: chardet<3.1.0,>=3.0.2 in /usr/local/lib/python3.6/dist-packages (from requests->plotly) (3.0.4)\n",
            "Requirement already satisfied: certifi>=2017.4.17 in /usr/local/lib/python3.6/dist-packages (from requests->plotly) (2018.11.29)\n",
            "CUDA is available!  Training on GPU ...\n"
          ],
          "name": "stdout"
        }
      ]
    },
    {
      "metadata": {
        "id": "vn9TNLgW7GM_",
        "colab_type": "code",
        "outputId": "f402ea09-0eba-4bd1-e2d9-e999f422a461",
        "colab": {
          "base_uri": "https://localhost:8080/",
          "height": 50
        }
      },
      "cell_type": "code",
      "source": [
        "# Read and Peak at Data\n",
        "df = pd.read_csv('/content/gdrive/My Drive/Data Science/trump.csv', sep='\\t') \n",
        "\n",
        "# Extracting Missing Count and Unique Count by Column\n",
        "unique_count = []\n",
        "for x in df.columns:\n",
        "    unique_count.append([x, len(df[x].unique()), df[x].isnull().sum()])\n",
        "\n",
        "# Missing Values\n",
        "print(\"Missing Values: {}\".format(df.isnull().sum().sum()))\n",
        "\n",
        "# Data Dimensions\n",
        "print(\"Dataframe Dimension: {} Rows, {} Columns\".format(*df.shape))\n",
        "\n",
        "# Convert to tweet to string\n",
        "df['tweet'] = df['tweet'].astype(str)\n",
        "\n",
        "# Create New Variables:\n",
        "# Word Length\n",
        "df[\"word_count\"] = df['tweet'].str.split().apply(len)\n",
        "# Character Length\n",
        "df[\"character_count\"] = df['tweet'].apply(len)"
      ],
      "execution_count": 0,
      "outputs": [
        {
          "output_type": "stream",
          "text": [
            "Missing Values: 184956\n",
            "Dataframe Dimension: 430228 Rows, 5 Columns\n"
          ],
          "name": "stdout"
        }
      ]
    },
    {
      "metadata": {
        "id": "TCxrDwKIP3sh",
        "colab_type": "code",
        "outputId": "ce48fcba-85b5-4373-97b2-ed0348adad9f",
        "colab": {
          "base_uri": "https://localhost:8080/",
          "height": 195
        }
      },
      "cell_type": "code",
      "source": [
        "df.head()"
      ],
      "execution_count": 0,
      "outputs": [
        {
          "output_type": "execute_result",
          "data": {
            "text/html": [
              "<div>\n",
              "<style scoped>\n",
              "    .dataframe tbody tr th:only-of-type {\n",
              "        vertical-align: middle;\n",
              "    }\n",
              "\n",
              "    .dataframe tbody tr th {\n",
              "        vertical-align: top;\n",
              "    }\n",
              "\n",
              "    .dataframe thead th {\n",
              "        text-align: right;\n",
              "    }\n",
              "</style>\n",
              "<table border=\"1\" class=\"dataframe\">\n",
              "  <thead>\n",
              "    <tr style=\"text-align: right;\">\n",
              "      <th></th>\n",
              "      <th>time</th>\n",
              "      <th>tweet</th>\n",
              "      <th>id</th>\n",
              "      <th>username</th>\n",
              "      <th>location</th>\n",
              "      <th>word_count</th>\n",
              "      <th>character_count</th>\n",
              "    </tr>\n",
              "  </thead>\n",
              "  <tbody>\n",
              "    <tr>\n",
              "      <th>0</th>\n",
              "      <td>1547856694.7658603</td>\n",
              "      <td>'RT @SethAbramson: In case you missed it: what...</td>\n",
              "      <td>79549</td>\n",
              "      <td>SmithEckert13</td>\n",
              "      <td>Fort Wayne, IN</td>\n",
              "      <td>25</td>\n",
              "      <td>155</td>\n",
              "    </tr>\n",
              "    <tr>\n",
              "      <th>1</th>\n",
              "      <td>1547856694.7953787</td>\n",
              "      <td>'RT @RonWyden: Incredible. More luxury travel ...</td>\n",
              "      <td>79550</td>\n",
              "      <td>QueenTAG</td>\n",
              "      <td>Scotts Valley, CA</td>\n",
              "      <td>22</td>\n",
              "      <td>149</td>\n",
              "    </tr>\n",
              "    <tr>\n",
              "      <th>2</th>\n",
              "      <td>1547856694.8134415</td>\n",
              "      <td>'President Trump Directed Michael Cohen To Lie...</td>\n",
              "      <td>79551</td>\n",
              "      <td>vkrgz</td>\n",
              "      <td>Dünyanın içinden</td>\n",
              "      <td>16</td>\n",
              "      <td>125</td>\n",
              "    </tr>\n",
              "    <tr>\n",
              "      <th>3</th>\n",
              "      <td>1547856694.8526797</td>\n",
              "      <td>'RT @TeaPainUSA: Tea would wager that Trump in...</td>\n",
              "      <td>79552</td>\n",
              "      <td>ChazGohVan</td>\n",
              "      <td>Jupiter UNIVERSE</td>\n",
              "      <td>26</td>\n",
              "      <td>147</td>\n",
              "    </tr>\n",
              "    <tr>\n",
              "      <th>4</th>\n",
              "      <td>1547856694.904921</td>\n",
              "      <td>'RT @BruceBartlett: There is one person in Ame...</td>\n",
              "      <td>79553</td>\n",
              "      <td>JudyPrincz</td>\n",
              "      <td>Manhattan, NY</td>\n",
              "      <td>24</td>\n",
              "      <td>147</td>\n",
              "    </tr>\n",
              "  </tbody>\n",
              "</table>\n",
              "</div>"
            ],
            "text/plain": [
              "                 time                                              tweet  \\\n",
              "0  1547856694.7658603  'RT @SethAbramson: In case you missed it: what...   \n",
              "1  1547856694.7953787  'RT @RonWyden: Incredible. More luxury travel ...   \n",
              "2  1547856694.8134415  'President Trump Directed Michael Cohen To Lie...   \n",
              "3  1547856694.8526797  'RT @TeaPainUSA: Tea would wager that Trump in...   \n",
              "4   1547856694.904921  'RT @BruceBartlett: There is one person in Ame...   \n",
              "\n",
              "      id       username           location  word_count  character_count  \n",
              "0  79549  SmithEckert13     Fort Wayne, IN          25              155  \n",
              "1  79550       QueenTAG  Scotts Valley, CA          22              149  \n",
              "2  79551          vkrgz   Dünyanın içinden          16              125  \n",
              "3  79552     ChazGohVan   Jupiter UNIVERSE          26              147  \n",
              "4  79553     JudyPrincz      Manhattan, NY          24              147  "
            ]
          },
          "metadata": {
            "tags": []
          },
          "execution_count": 3
        }
      ]
    },
    {
      "metadata": {
        "id": "hkodBHkYA4Q2",
        "colab_type": "code",
        "outputId": "e06ee776-0f39-4d77-8a53-0798cbfee269",
        "colab": {
          "base_uri": "https://localhost:8080/",
          "height": 284
        }
      },
      "cell_type": "code",
      "source": [
        "df.describe()"
      ],
      "execution_count": 0,
      "outputs": [
        {
          "output_type": "execute_result",
          "data": {
            "text/html": [
              "<div>\n",
              "<style scoped>\n",
              "    .dataframe tbody tr th:only-of-type {\n",
              "        vertical-align: middle;\n",
              "    }\n",
              "\n",
              "    .dataframe tbody tr th {\n",
              "        vertical-align: top;\n",
              "    }\n",
              "\n",
              "    .dataframe thead th {\n",
              "        text-align: right;\n",
              "    }\n",
              "</style>\n",
              "<table border=\"1\" class=\"dataframe\">\n",
              "  <thead>\n",
              "    <tr style=\"text-align: right;\">\n",
              "      <th></th>\n",
              "      <th>word_count</th>\n",
              "      <th>character_count</th>\n",
              "    </tr>\n",
              "  </thead>\n",
              "  <tbody>\n",
              "    <tr>\n",
              "      <th>count</th>\n",
              "      <td>430228.000000</td>\n",
              "      <td>430228.000000</td>\n",
              "    </tr>\n",
              "    <tr>\n",
              "      <th>mean</th>\n",
              "      <td>18.674238</td>\n",
              "      <td>122.972138</td>\n",
              "    </tr>\n",
              "    <tr>\n",
              "      <th>std</th>\n",
              "      <td>6.134861</td>\n",
              "      <td>33.739280</td>\n",
              "    </tr>\n",
              "    <tr>\n",
              "      <th>min</th>\n",
              "      <td>1.000000</td>\n",
              "      <td>1.000000</td>\n",
              "    </tr>\n",
              "    <tr>\n",
              "      <th>25%</th>\n",
              "      <td>16.000000</td>\n",
              "      <td>122.000000</td>\n",
              "    </tr>\n",
              "    <tr>\n",
              "      <th>50%</th>\n",
              "      <td>20.000000</td>\n",
              "      <td>140.000000</td>\n",
              "    </tr>\n",
              "    <tr>\n",
              "      <th>75%</th>\n",
              "      <td>23.000000</td>\n",
              "      <td>140.000000</td>\n",
              "    </tr>\n",
              "    <tr>\n",
              "      <th>max</th>\n",
              "      <td>37.000000</td>\n",
              "      <td>258.000000</td>\n",
              "    </tr>\n",
              "  </tbody>\n",
              "</table>\n",
              "</div>"
            ],
            "text/plain": [
              "          word_count  character_count\n",
              "count  430228.000000    430228.000000\n",
              "mean       18.674238       122.972138\n",
              "std         6.134861        33.739280\n",
              "min         1.000000         1.000000\n",
              "25%        16.000000       122.000000\n",
              "50%        20.000000       140.000000\n",
              "75%        23.000000       140.000000\n",
              "max        37.000000       258.000000"
            ]
          },
          "metadata": {
            "tags": []
          },
          "execution_count": 4
        }
      ]
    },
    {
      "metadata": {
        "id": "-ApQWoqeUV0-",
        "colab_type": "code",
        "outputId": "50ecad8c-3af6-4e94-f1d8-da3a25fa348b",
        "colab": {
          "base_uri": "https://localhost:8080/",
          "height": 34
        }
      },
      "cell_type": "code",
      "source": [
        "df.tweet[5000]"
      ],
      "execution_count": 0,
      "outputs": [
        {
          "output_type": "execute_result",
          "data": {
            "text/plain": [
              "'RT @Chef_Epsimos: @shannonrwatts Everyone should start tweeting trump #PresidentPelosi'"
            ]
          },
          "metadata": {
            "tags": []
          },
          "execution_count": 5
        }
      ]
    },
    {
      "metadata": {
        "id": "feteuzh0YGP-",
        "colab_type": "text"
      },
      "cell_type": "markdown",
      "source": [
        "# **Data Cleaning**"
      ]
    },
    {
      "metadata": {
        "id": "9ssbbPcxBqbj",
        "colab_type": "code",
        "outputId": "f6249858-19dc-4241-b9fb-d6f5894a1b7b",
        "colab": {
          "base_uri": "https://localhost:8080/",
          "height": 195
        }
      },
      "cell_type": "code",
      "source": [
        "\n",
        "# Importing SKLearn's list of stopwords and \n",
        "# then appending with my own words\n",
        "stop = text.ENGLISH_STOP_WORDS\n",
        "      \n",
        "# Basic text cleaning function that also removes stopwords\n",
        "def remove_noise(text):\n",
        "\n",
        "    # Remove Mentions\n",
        "   # text = text.apply(lambda x: re.compile('\\#').sub('', re.compile(\n",
        "        #'RT @').sub('@', x, count=1).strip()))\n",
        "    \n",
        "    # Remove URLs\n",
        "    text = text.str.replace('https?://[A-Za-z0-9./]+','')\n",
        "    \n",
        "    # Keep Hashtag text\n",
        "    text = text.str.replace(\"[^a-zA-Z]\", \" \")\n",
        "    \n",
        "    # Make lowercase\n",
        "    text = text.apply(lambda x: \" \".join(x.lower() for x in x.split()))\n",
        "\n",
        "    # Remove whitespaces\n",
        "    text = text.apply(lambda x: \" \".join(x.strip() for x in x.split()))\n",
        "\n",
        "    # Remove special characters\n",
        "    text = text.apply(lambda x: \"\".join(\n",
        "        [\" \" if ord(i) < 32 or ord(i) > 126 else i for i in x]))\n",
        "\n",
        "    # Remove punctuation\n",
        "    text = text.str.replace('[^\\w\\s]', '')\n",
        "\n",
        "    # Remove numbers\n",
        "    text = text.str.replace('\\d+', '')\n",
        "\n",
        "    # Remove Stopwords\n",
        "    text = text.apply(lambda x: ' '.join(\n",
        "        [word for word in x.split() if word not in (stop)]))\n",
        "\n",
        "    # Convert to string\n",
        "    text = text.astype(str)\n",
        "\n",
        "    return text\n",
        "   \n",
        "# Function to remove RT @user\n",
        "def remove_pattern(input_txt, pattern):\n",
        "    r = re.findall(pattern, input_txt)\n",
        "    for i in r:\n",
        "        input_txt = re.sub(i, '', input_txt)\n",
        "        \n",
        "    return input_txt  \n",
        "  \n",
        "\n",
        "# remove  RT: @user\n",
        "df['filtered_tweet'] = np.vectorize(\n",
        "    remove_pattern)(df['tweet'], \"RT @[\\w]*\")\n",
        "\n",
        "# Apply cleaner function\n",
        "df['filtered_tweet'] = remove_noise(df['filtered_tweet'])\n",
        "\n",
        "df = df.drop(['time', 'id', 'username', 'location'], axis=1)\n",
        "df.head(5)"
      ],
      "execution_count": 0,
      "outputs": [
        {
          "output_type": "execute_result",
          "data": {
            "text/html": [
              "<div>\n",
              "<style scoped>\n",
              "    .dataframe tbody tr th:only-of-type {\n",
              "        vertical-align: middle;\n",
              "    }\n",
              "\n",
              "    .dataframe tbody tr th {\n",
              "        vertical-align: top;\n",
              "    }\n",
              "\n",
              "    .dataframe thead th {\n",
              "        text-align: right;\n",
              "    }\n",
              "</style>\n",
              "<table border=\"1\" class=\"dataframe\">\n",
              "  <thead>\n",
              "    <tr style=\"text-align: right;\">\n",
              "      <th></th>\n",
              "      <th>tweet</th>\n",
              "      <th>word_count</th>\n",
              "      <th>character_count</th>\n",
              "      <th>filtered_tweet</th>\n",
              "    </tr>\n",
              "  </thead>\n",
              "  <tbody>\n",
              "    <tr>\n",
              "      <th>0</th>\n",
              "      <td>'RT @SethAbramson: In case you missed it: what...</td>\n",
              "      <td>25</td>\n",
              "      <td>155</td>\n",
              "      <td>case missed fuss tonight retweet think followe...</td>\n",
              "    </tr>\n",
              "    <tr>\n",
              "      <th>1</th>\n",
              "      <td>'RT @RonWyden: Incredible. More luxury travel ...</td>\n",
              "      <td>22</td>\n",
              "      <td>149</td>\n",
              "      <td>incredible luxury travel trump administration ...</td>\n",
              "    </tr>\n",
              "    <tr>\n",
              "      <th>2</th>\n",
              "      <td>'President Trump Directed Michael Cohen To Lie...</td>\n",
              "      <td>16</td>\n",
              "      <td>125</td>\n",
              "      <td>president trump directed michael cohen lie con...</td>\n",
              "    </tr>\n",
              "    <tr>\n",
              "      <th>3</th>\n",
              "      <td>'RT @TeaPainUSA: Tea would wager that Trump in...</td>\n",
              "      <td>26</td>\n",
              "      <td>147</td>\n",
              "      <td>tea wager trump instructed folks lie congress ...</td>\n",
              "    </tr>\n",
              "    <tr>\n",
              "      <th>4</th>\n",
              "      <td>'RT @BruceBartlett: There is one person in Ame...</td>\n",
              "      <td>24</td>\n",
              "      <td>147</td>\n",
              "      <td>person america trump chose rupert murdoch medi...</td>\n",
              "    </tr>\n",
              "  </tbody>\n",
              "</table>\n",
              "</div>"
            ],
            "text/plain": [
              "                                               tweet  word_count  \\\n",
              "0  'RT @SethAbramson: In case you missed it: what...          25   \n",
              "1  'RT @RonWyden: Incredible. More luxury travel ...          22   \n",
              "2  'President Trump Directed Michael Cohen To Lie...          16   \n",
              "3  'RT @TeaPainUSA: Tea would wager that Trump in...          26   \n",
              "4  'RT @BruceBartlett: There is one person in Ame...          24   \n",
              "\n",
              "   character_count                                     filtered_tweet  \n",
              "0              155  case missed fuss tonight retweet think followe...  \n",
              "1              149  incredible luxury travel trump administration ...  \n",
              "2              125  president trump directed michael cohen lie con...  \n",
              "3              147  tea wager trump instructed folks lie congress ...  \n",
              "4              147  person america trump chose rupert murdoch medi...  "
            ]
          },
          "metadata": {
            "tags": []
          },
          "execution_count": 6
        }
      ]
    },
    {
      "metadata": {
        "id": "LqyQtNTFjAT8",
        "colab_type": "code",
        "colab": {}
      },
      "cell_type": "code",
      "source": [
        "#Second Cleaning Function that keeps stopwords\n",
        "def extract_text(text):\n",
        "    \n",
        "    # Convert to string\n",
        "    text = text.astype(str)\n",
        "    \n",
        "    # Remove URLs\n",
        "    text = text.str.replace('https?://[A-Za-z0-9./]+','')\n",
        "    \n",
        "    # Keep Hashtag text\n",
        "    text = text.str.replace(\"[^a-zA-Z]\", \" \")\n",
        "    \n",
        "    # Make lowercase\n",
        "    text = text.apply(lambda x: \" \".join(x.lower() for x in x.split()))\n",
        "\n",
        "    # Remove whitespaces\n",
        "    text = text.apply(lambda x: \" \".join(x.strip() for x in x.split()))\n",
        "\n",
        "    # Remove special characters\n",
        "    text = text.apply(lambda x: \"\".join(\n",
        "        [\" \" if ord(i) < 32 or ord(i) > 126 else i for i in x]))\n",
        "\n",
        "    # Remove punctuation\n",
        "    text = text.str.replace('[^\\w\\s]', '')\n",
        "\n",
        "    # Remove numbers\n",
        "    text = text.str.replace('\\d+', '')\n",
        "    \n",
        "    #Remove 1-2 letter clutter remnants\n",
        "    text = text.apply(lambda x: re.sub(r'\\b\\w{1,2}\\b', '', x))\n",
        "\n",
        "    return text\n",
        "\n",
        "# remove  RT: @user\n",
        "df['clean'] = np.vectorize(remove_pattern)(df['tweet'], \"RT @[\\w]*\")\n",
        "\n",
        "\n",
        "# Applying function to data\n",
        "df['clean'] = extract_text(df['clean'])\n"
      ],
      "execution_count": 0,
      "outputs": []
    },
    {
      "metadata": {
        "id": "Q6ta89cekQHI",
        "colab_type": "code",
        "outputId": "66c5b026-17a4-46f8-bcf6-af0361bf8d77",
        "colab": {
          "base_uri": "https://localhost:8080/",
          "height": 70
        }
      },
      "cell_type": "code",
      "source": [
        "print(df.tweet[5])\n",
        "print(df.clean[5])"
      ],
      "execution_count": 0,
      "outputs": [
        {
          "output_type": "stream",
          "text": [
            "'RT @cher: trump\\u2019s A CROOK &amp; LIAR,IF HE WAS THE HEAD OF ANY COMPANY HE WOULD BE FIRED.THE IMMEDIATE CRISIS, \\n800,000.00 PPL ARE LOSING THE L\\u2026'\n",
            "trump    crook amp liar   was the head  any company  would  fired the immediate crisis  ppl are losing the  \n"
          ],
          "name": "stdout"
        }
      ]
    },
    {
      "metadata": {
        "id": "ia7EGocDtVOK",
        "colab_type": "text"
      },
      "cell_type": "markdown",
      "source": [
        "# Sentiment Labelling\n",
        "\n",
        "The sentiment property of Texblob returns a namedtuple of the form Sentiment(polarity, subjectivity). The polarity score is a float within the range [-1.0, 1.0]. We will use this to label tweets as positive, neutral, or negative. \n",
        "\n",
        "I will label anything with a polarity of exactly zero as neutral and remove the data rows with that label, leaving only polar data points. Then we can see if this method of labeling works for training a classifier."
      ]
    },
    {
      "metadata": {
        "id": "abs7wBFWOT91",
        "colab_type": "code",
        "outputId": "15f49701-32a6-4efe-aed6-9dd6f851756c",
        "colab": {
          "base_uri": "https://localhost:8080/",
          "height": 279
        }
      },
      "cell_type": "code",
      "source": [
        "def analyze_sentiment(tweet):\n",
        "    '''\n",
        "    Utility function to classify the polarity of a tweet\n",
        "    using textblob.\n",
        "    '''\n",
        "    analysis = TextBlob(tweet)\n",
        "    if analysis.sentiment.polarity > 0:\n",
        "        return 1\n",
        "    elif analysis.sentiment.polarity == 0:\n",
        "        return 0\n",
        "    else:\n",
        "        return -1\n",
        "\n",
        "# Create a column with the result of the analysis:\n",
        "df['SA'] = np.array(\n",
        "    [analyze_sentiment(tweet) for tweet in df['filtered_tweet']])\n",
        "\n",
        "df['SA2'] = np.array(\n",
        "    [analyze_sentiment(tweet) for tweet in df['clean']])\n",
        "\n",
        "df.head()"
      ],
      "execution_count": 0,
      "outputs": [
        {
          "output_type": "execute_result",
          "data": {
            "text/html": [
              "<div>\n",
              "<style scoped>\n",
              "    .dataframe tbody tr th:only-of-type {\n",
              "        vertical-align: middle;\n",
              "    }\n",
              "\n",
              "    .dataframe tbody tr th {\n",
              "        vertical-align: top;\n",
              "    }\n",
              "\n",
              "    .dataframe thead th {\n",
              "        text-align: right;\n",
              "    }\n",
              "</style>\n",
              "<table border=\"1\" class=\"dataframe\">\n",
              "  <thead>\n",
              "    <tr style=\"text-align: right;\">\n",
              "      <th></th>\n",
              "      <th>tweet</th>\n",
              "      <th>word_count</th>\n",
              "      <th>character_count</th>\n",
              "      <th>filtered_tweet</th>\n",
              "      <th>clean</th>\n",
              "      <th>SA</th>\n",
              "      <th>SA2</th>\n",
              "    </tr>\n",
              "  </thead>\n",
              "  <tbody>\n",
              "    <tr>\n",
              "      <th>0</th>\n",
              "      <td>'RT @SethAbramson: In case you missed it: what...</td>\n",
              "      <td>25</td>\n",
              "      <td>155</td>\n",
              "      <td>case missed fuss tonight retweet think followe...</td>\n",
              "      <td>case you missed  what all the fuss  about ton...</td>\n",
              "      <td>0</td>\n",
              "      <td>0</td>\n",
              "    </tr>\n",
              "    <tr>\n",
              "      <th>1</th>\n",
              "      <td>'RT @RonWyden: Incredible. More luxury travel ...</td>\n",
              "      <td>22</td>\n",
              "      <td>149</td>\n",
              "      <td>incredible luxury travel trump administration ...</td>\n",
              "      <td>incredible more luxury travel from the trump a...</td>\n",
              "      <td>1</td>\n",
              "      <td>1</td>\n",
              "    </tr>\n",
              "    <tr>\n",
              "      <th>2</th>\n",
              "      <td>'President Trump Directed Michael Cohen To Lie...</td>\n",
              "      <td>16</td>\n",
              "      <td>125</td>\n",
              "      <td>president trump directed michael cohen lie con...</td>\n",
              "      <td>president trump directed michael cohen  lie  c...</td>\n",
              "      <td>0</td>\n",
              "      <td>0</td>\n",
              "    </tr>\n",
              "    <tr>\n",
              "      <th>3</th>\n",
              "      <td>'RT @TeaPainUSA: Tea would wager that Trump in...</td>\n",
              "      <td>26</td>\n",
              "      <td>147</td>\n",
              "      <td>tea wager trump instructed folks lie congress ...</td>\n",
              "      <td>tea would wager that trump instructed all his ...</td>\n",
              "      <td>0</td>\n",
              "      <td>-1</td>\n",
              "    </tr>\n",
              "    <tr>\n",
              "      <th>4</th>\n",
              "      <td>'RT @BruceBartlett: There is one person in Ame...</td>\n",
              "      <td>24</td>\n",
              "      <td>147</td>\n",
              "      <td>person america trump chose rupert murdoch medi...</td>\n",
              "      <td>there  one person  america who could  somethin...</td>\n",
              "      <td>0</td>\n",
              "      <td>0</td>\n",
              "    </tr>\n",
              "  </tbody>\n",
              "</table>\n",
              "</div>"
            ],
            "text/plain": [
              "                                               tweet  word_count  \\\n",
              "0  'RT @SethAbramson: In case you missed it: what...          25   \n",
              "1  'RT @RonWyden: Incredible. More luxury travel ...          22   \n",
              "2  'President Trump Directed Michael Cohen To Lie...          16   \n",
              "3  'RT @TeaPainUSA: Tea would wager that Trump in...          26   \n",
              "4  'RT @BruceBartlett: There is one person in Ame...          24   \n",
              "\n",
              "   character_count                                     filtered_tweet  \\\n",
              "0              155  case missed fuss tonight retweet think followe...   \n",
              "1              149  incredible luxury travel trump administration ...   \n",
              "2              125  president trump directed michael cohen lie con...   \n",
              "3              147  tea wager trump instructed folks lie congress ...   \n",
              "4              147  person america trump chose rupert murdoch medi...   \n",
              "\n",
              "                                               clean  SA  SA2  \n",
              "0   case you missed  what all the fuss  about ton...   0    0  \n",
              "1  incredible more luxury travel from the trump a...   1    1  \n",
              "2  president trump directed michael cohen  lie  c...   0    0  \n",
              "3  tea would wager that trump instructed all his ...   0   -1  \n",
              "4  there  one person  america who could  somethin...   0    0  "
            ]
          },
          "metadata": {
            "tags": []
          },
          "execution_count": 9
        }
      ]
    },
    {
      "metadata": {
        "id": "qzAHLSAsVMwi",
        "colab_type": "code",
        "outputId": "900e2337-1cd0-4dae-88ec-c0b9d32f1988",
        "colab": {
          "base_uri": "https://localhost:8080/",
          "height": 54
        }
      },
      "cell_type": "code",
      "source": [
        "print(df.tweet[3])"
      ],
      "execution_count": 0,
      "outputs": [
        {
          "output_type": "stream",
          "text": [
            "'RT @TeaPainUSA: Tea would wager that Trump instructed all his folks to lie to Congress because he knew Nunes and his other GOP imps and dem\\u2026'\n"
          ],
          "name": "stdout"
        }
      ]
    },
    {
      "metadata": {
        "id": "N7K_0QmLwLum",
        "colab_type": "text"
      },
      "cell_type": "markdown",
      "source": [
        "Looking at the Tweet at index 3 we can see there is a polarity differnce between the filtered tweet and the clean tweet. This could mean that stop words impact the way Textblob assess polarity. \n",
        "\n",
        "Intuitively I would call this tweet negative as it is objectively critical. As such, I'll use the SA2 variable as my label.\n",
        "\n",
        "I'm going to drop all the neutral tweets since I'm interetsed in binary sentiment classification."
      ]
    },
    {
      "metadata": {
        "id": "tk7z-5m803IR",
        "colab_type": "code",
        "outputId": "9e669ef3-9cc1-4889-bec3-92fcefb64b08",
        "colab": {
          "base_uri": "https://localhost:8080/",
          "height": 118
        }
      },
      "cell_type": "code",
      "source": [
        "# Make a copy of the data frame for later, and dropping neutral tweets\n",
        "df2 = df[df.SA2 != 0]\n",
        "\n",
        "# Dropping neutral tweets\n",
        "df = df[df.SA != 0]\n",
        "\n",
        "print('DF has {} rows.'.format(len(df)))\n",
        "print('DF2 has {} rows.'.format(len(df2)))\n",
        "print('\\n')\n",
        "print('DF2 has {} negative comments.'.format(\n",
        "    (df2.SA2 != 0).sum()))\n",
        "print('DF2 has {} positive comments.'.format(\n",
        "    (df2.SA2 != 1).sum()))\n",
        "\n"
      ],
      "execution_count": 0,
      "outputs": [
        {
          "output_type": "stream",
          "text": [
            "DF has 238014 rows.\n",
            "DF2 has 257218 rows.\n",
            "\n",
            "\n",
            "DF2 has 257218 negative comments.\n",
            "DF2 has 93343 positive comments.\n"
          ],
          "name": "stdout"
        }
      ]
    },
    {
      "metadata": {
        "id": "XqcbrVTrNDO_",
        "colab_type": "text"
      },
      "cell_type": "markdown",
      "source": [
        "# **EDA**"
      ]
    },
    {
      "metadata": {
        "id": "E9ZfUNjLT2Y4",
        "colab_type": "text"
      },
      "cell_type": "markdown",
      "source": [
        "First I'm going to do some data organization and trimming to build data frame copies for later. EDA will mostly focus on the full, imbalanced data set."
      ]
    },
    {
      "metadata": {
        "id": "rI52do4WPbY8",
        "colab_type": "code",
        "outputId": "0271b533-e6f8-4524-ee0f-efdec3414cb1",
        "colab": {
          "base_uri": "https://localhost:8080/",
          "height": 1013
        }
      },
      "cell_type": "code",
      "source": [
        "# Removed data to give even batch sizes DF\n",
        "remove_n = len(df)%50\n",
        "drop_indices = np.random.choice(df.index, remove_n, replace=False)\n",
        "df = df.drop(drop_indices)\n",
        "\n",
        "# Plot the label classes\n",
        "fig = plt.figure(figsize=(8,5))\n",
        "ax = sns.barplot(x=df.SA.unique(),y=df.SA.value_counts());\n",
        "ax.set(xlabel='Labels')\n",
        "ax.set_title('DF Class Balance')\n",
        "\n",
        "# Removed data to give even batch sizes DF2\n",
        "remove_n = len(df2)%50\n",
        "drop_indices2 = np.random.choice(df2.index, remove_n, replace=False)\n",
        "df2 = df2.drop(drop_indices2)\n",
        "\n",
        "# Plot the label classes\n",
        "fig = plt.figure(figsize=(8,5))\n",
        "ax = sns.barplot(x=df2.SA2.unique(),y=df2.SA2.value_counts());\n",
        "ax.set(xlabel='Labels')\n",
        "ax.set_title('DF2 Class Balance')\n",
        "\n",
        "#Define DF Copy to Reduce\n",
        "df3 = pd.concat(g.sample(87155) for idx, g in df2.groupby('SA2'))\n",
        "df3 = df3.sample(frac=.1)\n",
        "\n",
        "# Removed data to give even batch sizes DF3\n",
        "remove_n = len(df3)%50\n",
        "drop_indices3 = np.random.choice(df3.index, remove_n, replace=False)\n",
        "df3 = df3.drop(drop_indices3)\n",
        "\n",
        "# Plot the label classes\n",
        "fig = plt.figure(figsize=(8,5))\n",
        "ax = sns.barplot(x=df3.SA2.unique(),y=df3.SA2.value_counts());\n",
        "ax.set(xlabel='Labels')\n",
        "ax.set_title('DF3 Class Balance')\n",
        "\n",
        "plt.show()"
      ],
      "execution_count": 0,
      "outputs": [
        {
          "output_type": "display_data",
          "data": {
            "image/png": "[encoded data removed]",
            "text/plain": [
              "<Figure size 576x360 with 1 Axes>"
            ]
          },
          "metadata": {
            "tags": []
          }
        },
        {
          "output_type": "display_data",
          "data": {
            "image/png": "[encoded data removed]",
            "text/plain": [
              "<Figure size 576x360 with 1 Axes>"
            ]
          },
          "metadata": {
            "tags": []
          }
        },
        {
          "output_type": "display_data",
          "data": {
            "image/png": "[encoded data removed]",
            "text/plain": [
              "<Figure size 576x360 with 1 Axes>"
            ]
          },
          "metadata": {
            "tags": []
          }
        }
      ]
    },
    {
      "metadata": {
        "id": "k4jevNDl4-jy",
        "colab_type": "code",
        "outputId": "7825491c-df29-483a-c3cb-55d53983db3c",
        "colab": {
          "base_uri": "https://localhost:8080/",
          "height": 374
        }
      },
      "cell_type": "code",
      "source": [
        "# Exploring tweet word count\n",
        "z = df.groupby(by=['word_count'], as_index=False).count(\n",
        ").sort_values(by='SA2', ascending=False)\n",
        "\n",
        "plt.figure(figsize=(8, 5))\n",
        "sns.set_style(\"whitegrid\")\n",
        "ax = sns.barplot(x=z['word_count'], y=z['SA2'], data=z)\n",
        "plt.xlabel(\"\\nWord Count\")\n",
        "plt.ylabel(\"Count\")\n",
        "plt.title(\"Tweet Counts By Word Length\\n\")\n",
        "#plt.savefig(\"Counts By Department.png\", dpi =300)\n",
        "plt.show()"
      ],
      "execution_count": 0,
      "outputs": [
        {
          "output_type": "display_data",
          "data": {
            "image/png": "[encoded data removed]",
            "text/plain": [
              "<Figure size 576x360 with 1 Axes>"
            ]
          },
          "metadata": {
            "tags": []
          }
        }
      ]
    },
    {
      "metadata": {
        "id": "8KZnsCwCONl3",
        "colab_type": "code",
        "outputId": "e229a9e3-fd91-4f93-c79f-962b3e31e680",
        "colab": {
          "base_uri": "https://localhost:8080/",
          "height": 406
        }
      },
      "cell_type": "code",
      "source": [
        "# Exploring Recomendation and age distribution.\n",
        "colors = color={-1: \"#e5ae38\",\n",
        "                0: '#30a2da',\n",
        "                1: '#fc4f30'}\n",
        "f, ax = plt.subplots(figsize=(8, 5))\n",
        "df.groupby(['SA2', pd.cut(df['word_count'], np.arange(0, 40, 5))])\\\n",
        "    .size()\\\n",
        "    .unstack(0)\\\n",
        "    .plot.bar(stacked=True, ax=ax, color=colors.values())\n",
        "#plt.subplots_adjust(top=.8)\n",
        "plt.suptitle('Sentiment and Tweet Word Count')\n",
        "plt.xlabel(\"\\nWord Count\")\n",
        "ax.legend(loc='best', frameon=True)\n",
        "#plt.savefig(\"Recommendation and Age.png\", dpi =300)\n",
        "#plt.tight_layout()\n",
        "plt.show()"
      ],
      "execution_count": 0,
      "outputs": [
        {
          "output_type": "display_data",
          "data": {
            "image/png": "[encoded data removed]",
            "text/plain": [
              "<Figure size 576x360 with 1 Axes>"
            ]
          },
          "metadata": {
            "tags": []
          }
        }
      ]
    },
    {
      "metadata": {
        "id": "CNsPngttQRV7",
        "colab_type": "text"
      },
      "cell_type": "markdown",
      "source": [
        "We can see similar distribution of word counts, regardless of sentiment. The size difference of the  bars is likely due to the class imbalance we've observed. This could be verified by running the same plot on the trimmed data (DF3)."
      ]
    },
    {
      "metadata": {
        "id": "_o45e6H0RiP2",
        "colab_type": "code",
        "outputId": "0dc4c549-10c9-4e32-89f7-41f452ee01a5",
        "colab": {
          "base_uri": "https://localhost:8080/",
          "height": 406
        }
      },
      "cell_type": "code",
      "source": [
        "# Exploring Recomendation and age distribution.\n",
        "colors = color={-1: \"#e5ae38\",\n",
        "                1: '#fc4f30'}\n",
        "f, ax = plt.subplots(figsize=(8, 5))\n",
        "df3.groupby(['SA2', pd.cut(df3['word_count'], np.arange(0, 40, 5))])\\\n",
        "    .size()\\\n",
        "    .unstack(0)\\\n",
        "    .plot.bar(stacked=True, ax=ax, color=colors.values())\n",
        "#plt.subplots_adjust(top=.8)\n",
        "plt.suptitle('Sentiment and Tweet Word Count')\n",
        "plt.xlabel(\"\\nWord Count\")\n",
        "ax.legend(loc='best', frameon=True)\n",
        "#plt.savefig(\"Recommendation and Age.png\", dpi =300)\n",
        "#plt.tight_layout()\n",
        "plt.show()"
      ],
      "execution_count": 0,
      "outputs": [
        {
          "output_type": "display_data",
          "data": {
            "image/png": "[encoded data removed]",
            "text/plain": [
              "<Figure size 576x360 with 1 Axes>"
            ]
          },
          "metadata": {
            "tags": []
          }
        }
      ]
    },
    {
      "metadata": {
        "id": "iqeJSdrWRxCq",
        "colab_type": "text"
      },
      "cell_type": "markdown",
      "source": [
        "Voilà! "
      ]
    },
    {
      "metadata": {
        "id": "gi7HVw6_DpSU",
        "colab_type": "text"
      },
      "cell_type": "markdown",
      "source": [
        "# **TF-IDF**"
      ]
    },
    {
      "metadata": {
        "id": "Fk6hjpGETECa",
        "colab_type": "code",
        "outputId": "ebe2a094-cc21-4e37-c948-c1dccc1b76d8",
        "colab": {
          "base_uri": "https://localhost:8080/",
          "height": 34
        }
      },
      "cell_type": "code",
      "source": [
        "# convert column of sentiment to list of ints\n",
        "all_sent = df3.SA2.astype(int).values.tolist()\n",
        "\n",
        "# 1=positive, 0=negative label conversion\n",
        "#sent_split = sent_split('\\n')\n",
        "encoded_labels = np.array(\n",
        "    [1 if sent == 1 else 0 for sent in all_sent])\n",
        "\n",
        "\n",
        "encoded_labels[:10]"
      ],
      "execution_count": 0,
      "outputs": [
        {
          "output_type": "execute_result",
          "data": {
            "text/plain": [
              "array([0, 1, 1, 0, 0, 1, 0, 1, 0, 1])"
            ]
          },
          "metadata": {
            "tags": []
          },
          "execution_count": 97
        }
      ]
    },
    {
      "metadata": {
        "id": "8ao5FO9uMb_F",
        "colab_type": "code",
        "outputId": "5f97eae7-6a33-4b0f-9c3c-5bc041598d1b",
        "colab": {
          "base_uri": "https://localhost:8080/",
          "height": 67
        }
      },
      "cell_type": "code",
      "source": [
        "X = df3.loc[:, 'clean']\n",
        "y = encoded_labels\n",
        "X_train, X_test, Y_train, Y_test = train_test_split(\n",
        "    X, y, test_size=0.25, random_state=42)\n",
        "\n",
        "t0 = time()\n",
        "vectorizer = TfidfVectorizer(max_df=0.5,\n",
        "                             min_df=2, stop_words='english')\n",
        "\n",
        "X_train_tfidf = vectorizer.fit_transform(X_train)\n",
        "X_test_tfidf = vectorizer.fit_transform(X_test)\n",
        "print(\"done in %fs\" % (time() - t0))\n",
        "print(\"n_samples: %d, n_features: %d\" % X_train_tfidf.shape)\n",
        "print()"
      ],
      "execution_count": 0,
      "outputs": [
        {
          "output_type": "stream",
          "text": [
            "done in 0.312754s\n",
            "n_samples: 13050, n_features: 5079\n",
            "\n"
          ],
          "name": "stdout"
        }
      ]
    },
    {
      "metadata": {
        "id": "2OZqNhfHMbNa",
        "colab_type": "code",
        "outputId": "2458f08f-48cb-4f32-904a-67065b4e675b",
        "colab": {
          "base_uri": "https://localhost:8080/",
          "height": 84
        }
      },
      "cell_type": "code",
      "source": [
        "print(\"Performing dimensionality reduction using LSA\")\n",
        "t0 = time()\n",
        "\n",
        "svd = TruncatedSVD(600)\n",
        "#normalizer = Normalizer(copy=False)\n",
        "lsa = make_pipeline(svd)#, normalizer)\n",
        "\n",
        "X_train_lsa = lsa.fit_transform(X_train_tfidf)\n",
        "X_test_lsa = lsa.fit_transform(X_test_tfidf)\n",
        "\n",
        "print(\"done in %fs\" % (time() - t0))\n",
        "\n",
        "explained_variance = svd.explained_variance_ratio_.sum()\n",
        "print(\"Explained variance of the SVD step: {}%\".format(\n",
        "    int(explained_variance * 100)))\n",
        "\n",
        "print()"
      ],
      "execution_count": 0,
      "outputs": [
        {
          "output_type": "stream",
          "text": [
            "Performing dimensionality reduction using LSA\n",
            "done in 12.852436s\n",
            "Explained variance of the SVD step: 81%\n",
            "\n"
          ],
          "name": "stdout"
        }
      ]
    },
    {
      "metadata": {
        "id": "ogjN7TNuWtTn",
        "colab_type": "text"
      },
      "cell_type": "markdown",
      "source": [
        "## **K-Means Clustering**"
      ]
    },
    {
      "metadata": {
        "id": "7H1zRj4vMbBD",
        "colab_type": "code",
        "outputId": "79bd9f84-b3f8-4d6c-d07f-459d8b8772e4",
        "colab": {
          "base_uri": "https://localhost:8080/",
          "height": 101
        }
      },
      "cell_type": "code",
      "source": [
        "# Since our target is boolean, we expect 2 clusters.\n",
        "km = KMeans(n_clusters=2, max_iter=100,\n",
        "            random_state=42)\n",
        "\n",
        "print(\"Clustering sparse data with %s\" % km)\n",
        "t0 = time()\n",
        "km.fit(X_train_lsa)\n",
        "print(\"done in %0.3fs\" % (time() - t0))\n",
        "print()"
      ],
      "execution_count": 0,
      "outputs": [
        {
          "output_type": "stream",
          "text": [
            "Clustering sparse data with KMeans(algorithm='auto', copy_x=True, init='k-means++', max_iter=100,\n",
            "    n_clusters=2, n_init=10, n_jobs=None, precompute_distances='auto',\n",
            "    random_state=42, tol=0.0001, verbose=0)\n",
            "done in 2.997s\n",
            "\n"
          ],
          "name": "stdout"
        }
      ]
    },
    {
      "metadata": {
        "id": "9wNFv0mgWrSP",
        "colab_type": "code",
        "outputId": "866d8f71-e667-43fb-fcee-c936a738f0c9",
        "colab": {
          "base_uri": "https://localhost:8080/",
          "height": 567
        }
      },
      "cell_type": "code",
      "source": [
        "\n",
        "plt.figure(figsize=(7, 4))\n",
        "# Calculate predicted values.\n",
        "y_pred = km.fit_predict(X_train_lsa)\n",
        "\n",
        "# Calculate Error Type\n",
        "y_error = (y_pred*2)-Y_train\n",
        "\n",
        "#Define Error Colors\n",
        "LABEL_COLOR_MAP = {-1: '#FF752E',\n",
        "                   0:  '#ad00c8',\n",
        "                   1: '#4ae500', \n",
        "                   2: '#000dbf'\n",
        "                   }\n",
        "label_color = [LABEL_COLOR_MAP[i] for i in y_error]\n",
        "label_convert = {-1: 'FN',\n",
        "                 0: 'TN',\n",
        "                 1:'TP',\n",
        "                 2: 'FP'\n",
        "                 } \n",
        "# Plot the solution.\n",
        "plt.scatter(X_train_lsa[:, 0], X_train_lsa[:, 1],\n",
        "            marker='.', c=label_color) \n",
        "#Plot the error legend\n",
        "markers = [\n",
        "    plt.Line2D([0, 0], [0, 0], color=color,\n",
        "               marker='o', linestyle=''\n",
        "               ) for color in LABEL_COLOR_MAP.values()]\n",
        "plt.legend(markers, label_convert.values(), numpoints=1)\n",
        "plt.rcParams.update({'font.size': 12})\n",
        "#plt.savefig(\"K-Means.png\", dpi =300)\n",
        "plt.show()\n",
        "\n",
        "# Check the solution against the data.\n",
        "cm = pd.crosstab(Y_train, y_pred, rownames=['True'], \n",
        "                 colnames=['Predicted'], margins=True)\n",
        "print(\"\\nConfusion Matrix:  \\n\", cm)\n",
        "print(\"\\n                    Classification Report \\n\",\n",
        "      classification_report(Y_train, y_pred))"
      ],
      "execution_count": 0,
      "outputs": [
        {
          "output_type": "display_data",
          "data": {
            "image/png": "[encoded data removed]",
            "text/plain": [
              "<Figure size 504x288 with 1 Axes>"
            ]
          },
          "metadata": {
            "tags": []
          }
        },
        {
          "output_type": "stream",
          "text": [
            "\n",
            "Confusion Matrix:  \n",
            " Predicted      0     1    All\n",
            "True                         \n",
            "0           6133   455   6588\n",
            "1           5641   821   6462\n",
            "All        11774  1276  13050\n",
            "\n",
            "                    Classification Report \n",
            "               precision    recall  f1-score   support\n",
            "\n",
            "           0       0.52      0.93      0.67      6588\n",
            "           1       0.64      0.13      0.21      6462\n",
            "\n",
            "   micro avg       0.53      0.53      0.53     13050\n",
            "   macro avg       0.58      0.53      0.44     13050\n",
            "weighted avg       0.58      0.53      0.44     13050\n",
            "\n"
          ],
          "name": "stdout"
        }
      ]
    },
    {
      "metadata": {
        "id": "yRFEzIsNgscL",
        "colab_type": "code",
        "outputId": "1ecb5ba6-32b8-48fa-e607-a5219e8d422a",
        "colab": {
          "base_uri": "https://localhost:8080/",
          "height": 50
        }
      },
      "cell_type": "code",
      "source": [
        "tsne = TSNE(n_components=3, verbose=1, perplexity=40, n_iter=300)\n",
        "t0 = time()\n",
        "tsne_results_train = tsne.fit_transform(X_train_lsa)\n",
        "print(\"done in %0.3fs\" % (time() - t0))"
      ],
      "execution_count": 0,
      "outputs": [
        {
          "output_type": "stream",
          "text": [
            "[t-SNE] Computing 121 nearest neighbors...\n",
            "[t-SNE] Indexed 130725 samples in 11.642s...\n"
          ],
          "name": "stdout"
        }
      ]
    },
    {
      "metadata": {
        "id": "le8KLo1rgsKX",
        "colab_type": "code",
        "colab": {}
      },
      "cell_type": "code",
      "source": [
        "from mpl_toolkits import mplot3d\n",
        "\n",
        "fig = plt.figure(figsize=(17.5, 11))\n",
        "ax = fig.add_subplot(111, projection='3d')\n",
        "\n",
        "TSNE_color_dict = {0:  '#ad00c8',\n",
        "                   1: '#4ae500' \n",
        "                   #2: '#000dbf'\n",
        "                   }\n",
        "TSNE_color = [TSNE_color_dict[i] for i in Y_train]\n",
        "flatui = [\"#4ae500\", \"#d63900\"]\n",
        "\n",
        "# Data for three-dimensional scattered points\n",
        "zdata = tsne_results_train[:, 0]\n",
        "xdata = tsne_results_train[:, 1]\n",
        "ydata = tsne_results_train[:, 2]\n",
        "ax.scatter3D(xdata, ydata, zdata, c=TSNE_color)\n",
        "\n",
        "# rotate the axes and plot\n",
        "ax.view_init(elev = -15, azim = 45)\n",
        "plt.title('t-SNE Clustering')\n",
        "plt.tight_layout()    \n",
        "#plt.savefig(\"t_SNE.png\", dpi =300)\n",
        "plt.show()"
      ],
      "execution_count": 0,
      "outputs": []
    },
    {
      "metadata": {
        "id": "kRyW49oFF33_",
        "colab_type": "text"
      },
      "cell_type": "markdown",
      "source": [
        "# **Word2Vec**"
      ]
    },
    {
      "metadata": {
        "colab_type": "code",
        "id": "rNZE4Uuz1qxr",
        "colab": {}
      },
      "cell_type": "code",
      "source": [
        "from string import punctuation\n",
        "\n",
        "# convert column of tweets to list of words\n",
        "all_text = df3.clean.astype(str).values.tolist()\n",
        "string_text = '\\n'.join([word for word in all_text])\n",
        "tweet_split = string_text.split('\\n')\n",
        "string_text = ' '.join(tweet_split)\n",
        "\n",
        "# create a list of words\n",
        "words = string_text.split()"
      ],
      "execution_count": 0,
      "outputs": []
    },
    {
      "metadata": {
        "id": "2-pP3GFsKCRk",
        "colab_type": "code",
        "colab": {}
      },
      "cell_type": "code",
      "source": [
        "# store as list of lists of words\n",
        "sentences = []\n",
        "for sent_str in all_text:\n",
        "    tokens = re.sub(r\"[^a-z0-9]+\", \" \", sent_str.lower()).split()\n",
        "    sentences.append(tokens)"
      ],
      "execution_count": 0,
      "outputs": []
    },
    {
      "metadata": {
        "id": "8vARAsKQLTH9",
        "colab_type": "code",
        "outputId": "2ea8313f-15d4-4224-bf19-d24e1aefe208",
        "colab": {
          "base_uri": "https://localhost:8080/",
          "height": 252
        }
      },
      "cell_type": "code",
      "source": [
        "sentences[0]"
      ],
      "execution_count": 0,
      "outputs": [
        {
          "output_type": "execute_result",
          "data": {
            "text/plain": [
              "['this',\n",
              " 'point',\n",
              " 'trump',\n",
              " 'announces',\n",
              " 'end',\n",
              " 'the',\n",
              " 'shutdown',\n",
              " 'will',\n",
              " 'due',\n",
              " 'his',\n",
              " 'acknowledgement',\n",
              " 'pain',\n",
              " 'and',\n",
              " 'suffering']"
            ]
          },
          "metadata": {
            "tags": []
          },
          "execution_count": 92
        }
      ]
    },
    {
      "metadata": {
        "id": "rByhq9xugi73",
        "colab_type": "code",
        "colab": {}
      },
      "cell_type": "code",
      "source": [
        "from gensim.models import Word2Vec\n",
        "\n",
        "w2v_model = Word2Vec(\n",
        "    sentences=sentences, size=300, window=5, min_count=5, workers=4, sg=0)\n"
      ],
      "execution_count": 0,
      "outputs": []
    },
    {
      "metadata": {
        "id": "1bA7w7RjN78i",
        "colab_type": "code",
        "outputId": "b091c34a-a323-4b5f-959e-a95d68f65660",
        "colab": {
          "base_uri": "https://localhost:8080/",
          "height": 185
        }
      },
      "cell_type": "code",
      "source": [
        "w2v_model.wv.most_similar('bad')"
      ],
      "execution_count": 0,
      "outputs": [
        {
          "output_type": "execute_result",
          "data": {
            "text/plain": [
              "[('aware', 0.8287050724029541),\n",
              " ('burned', 0.8248616456985474),\n",
              " ('least', 0.7881642580032349),\n",
              " ('left', 0.7853484153747559),\n",
              " ('happens', 0.7647498846054077),\n",
              " ('very', 0.7583795785903931),\n",
              " ('exposing', 0.7561557292938232),\n",
              " ('day', 0.7526326179504395),\n",
              " ('everyone', 0.7495018839836121),\n",
              " ('warned', 0.7468767166137695)]"
            ]
          },
          "metadata": {
            "tags": []
          },
          "execution_count": 94
        }
      ]
    },
    {
      "metadata": {
        "id": "mSlR9w6XOc2j",
        "colab_type": "text"
      },
      "cell_type": "markdown",
      "source": [
        "## **Fast Text**"
      ]
    },
    {
      "metadata": {
        "id": "G-5QVieGOajT",
        "colab_type": "code",
        "colab": {}
      },
      "cell_type": "code",
      "source": [
        "from gensim.models import FastText\n",
        "fast_model = FastText(\n",
        "    sentences, size=300, window=5, min_count=5, workers=4,sg=0)"
      ],
      "execution_count": 0,
      "outputs": []
    },
    {
      "metadata": {
        "id": "JZ5lJ1QIOaW2",
        "colab_type": "code",
        "outputId": "b9ade1a7-5ab9-4b44-f1af-a1fb28edd336",
        "colab": {
          "base_uri": "https://localhost:8080/",
          "height": 185
        }
      },
      "cell_type": "code",
      "source": [
        "fast_model.wv.most_similar(\"bad\")"
      ],
      "execution_count": 0,
      "outputs": [
        {
          "output_type": "execute_result",
          "data": {
            "text/plain": [
              "[('dad', 0.8990905284881592),\n",
              " ('glad', 0.8008184432983398),\n",
              " ('way', 0.7807180881500244),\n",
              " ('happens', 0.7746290564537048),\n",
              " ('sooo', 0.7656075954437256),\n",
              " ('afraid', 0.7629728317260742),\n",
              " ('baby', 0.7625799775123596),\n",
              " ('bash', 0.7607089877128601),\n",
              " ('soooo', 0.7492426633834839),\n",
              " ('journalism', 0.7421059608459473)]"
            ]
          },
          "metadata": {
            "tags": []
          },
          "execution_count": 96
        }
      ]
    },
    {
      "metadata": {
        "id": "vfbjwKXFRSnv",
        "colab_type": "text"
      },
      "cell_type": "markdown",
      "source": [
        "# **Doc2Vec**"
      ]
    },
    {
      "metadata": {
        "id": "5qPloK-r9wwW",
        "colab_type": "code",
        "colab": {}
      },
      "cell_type": "code",
      "source": [
        "x_d2v = df3.clean\n",
        "y_d2v = df3.SA2\n",
        "\n",
        "x_train_d2v, x_validation_and_test_d2v, y_train_d2v, y_validation_and_test_d2v = train_test_split(\n",
        "    x_d2v, y_d2v, test_size=.02, random_state=42)\n",
        "\n",
        "x_validation_d2v, x_test_d2v, y_validation_d2v, y_test_d2v = train_test_split(\n",
        "    x_validation_and_test_d2v, y_validation_and_test_d2v, \n",
        "    test_size=.5, random_state=42)"
      ],
      "execution_count": 0,
      "outputs": []
    },
    {
      "metadata": {
        "id": "lVo9MIdxQNX1",
        "colab_type": "code",
        "colab": {}
      },
      "cell_type": "code",
      "source": [
        "from tqdm import tqdm\n",
        "tqdm.pandas(desc=\"progress-bar\")\n",
        "from gensim.models import Doc2Vec\n",
        "from gensim.models.doc2vec import LabeledSentence\n",
        "import multiprocessing\n",
        "from sklearn import utils"
      ],
      "execution_count": 0,
      "outputs": []
    },
    {
      "metadata": {
        "id": "qQf_jvyqQiUN",
        "colab_type": "code",
        "colab": {}
      },
      "cell_type": "code",
      "source": [
        "def labelize_tweets_ug(tweets,label):\n",
        "    result = []\n",
        "    prefix = label\n",
        "    for i, t in zip(tweets.index, tweets):\n",
        "        result.append(LabeledSentence(t.split(), [prefix + '_%s' % i]))\n",
        "    return result"
      ],
      "execution_count": 0,
      "outputs": []
    },
    {
      "metadata": {
        "id": "Qt0H5KmAUvPD",
        "colab_type": "text"
      },
      "cell_type": "markdown",
      "source": [
        "We'll train with the entire "
      ]
    },
    {
      "metadata": {
        "id": "ZciELooEQyK8",
        "colab_type": "code",
        "colab": {}
      },
      "cell_type": "code",
      "source": [
        "all_x = pd.concat([x_train_d2v, x_validation_d2v, x_test_d2v])\n",
        "all_x_w2v = labelize_tweets_ug(all_x, 'all')"
      ],
      "execution_count": 0,
      "outputs": []
    },
    {
      "metadata": {
        "id": "tUyJcl-XQ0pJ",
        "colab_type": "code",
        "outputId": "ae31a9b5-0b0b-4449-e0a9-857a0e4c3f1d",
        "colab": {
          "base_uri": "https://localhost:8080/",
          "height": 34
        }
      },
      "cell_type": "code",
      "source": [
        "len(all_x_w2v)"
      ],
      "execution_count": 0,
      "outputs": [
        {
          "output_type": "execute_result",
          "data": {
            "text/plain": [
              "174300"
            ]
          },
          "metadata": {
            "tags": []
          },
          "execution_count": 32
        }
      ]
    },
    {
      "metadata": {
        "id": "oE1Jfoy6Q3mp",
        "colab_type": "code",
        "outputId": "9c2bed71-1cf1-45cf-f722-603a1cc0f0e2",
        "colab": {
          "base_uri": "https://localhost:8080/",
          "height": 34
        }
      },
      "cell_type": "code",
      "source": [
        "doc2vec_model = Doc2Vec(vector_size=50, min_count=2, epochs=5)\n",
        "doc2vec_model.build_vocab([x for x in tqdm(all_x_w2v)])"
      ],
      "execution_count": 0,
      "outputs": [
        {
          "output_type": "stream",
          "text": [
            "100%|██████████| 174300/174300 [00:00<00:00, 2070777.21it/s]\n"
          ],
          "name": "stderr"
        }
      ]
    },
    {
      "metadata": {
        "id": "hArhkX7iRHNz",
        "colab_type": "code",
        "outputId": "706b125d-be1b-48f9-b256-efb4d6a41042",
        "colab": {
          "base_uri": "https://localhost:8080/",
          "height": 34
        }
      },
      "cell_type": "code",
      "source": [
        "doc2vec_model.train(\n",
        "    utils.shuffle([x for x in tqdm(all_x_w2v)]),\n",
        "                        total_examples=len(all_x_w2v), \n",
        "    epochs=doc2vec_model.epochs)\n",
        "   "
      ],
      "execution_count": 0,
      "outputs": [
        {
          "output_type": "stream",
          "text": [
            "100%|██████████| 174300/174300 [00:00<00:00, 2315548.18it/s]\n"
          ],
          "name": "stderr"
        }
      ]
    },
    {
      "metadata": {
        "id": "siex-gxcRZl_",
        "colab_type": "code",
        "colab": {}
      },
      "cell_type": "code",
      "source": [
        "def get_vectors(model, corpus, size):\n",
        "    vecs = np.zeros((len(corpus), size))\n",
        "    n = 0\n",
        "    for i in corpus.index:\n",
        "        prefix = 'all_' + str(i)\n",
        "        vecs[n] = model.docvecs[prefix]\n",
        "        n += 1\n",
        "    return vecs\n",
        "  \n",
        "train_vecs_d2v = get_vectors(doc2vec_model, x_train_d2v, 50)\n",
        "validation_vecs_d2v = get_vectors(doc2vec_model, x_validation_d2v, 50)  "
      ],
      "execution_count": 0,
      "outputs": []
    },
    {
      "metadata": {
        "id": "AwsA78IZY0-q",
        "colab_type": "code",
        "colab": {}
      },
      "cell_type": "code",
      "source": [
        "# Defining a function to fit and predict ML algorithms\n",
        "def auto_model(mod, model_name, X_train, X_test, y_train, y_test):\n",
        "    mod.fit(X_train, y_train)\n",
        "    print(model_name)\n",
        "    acc = cross_val_score(mod, X_train, y_train,\n",
        "                          scoring=\"accuracy\", cv=5)\n",
        "    predictions = cross_val_predict(mod, X_train, y_train, cv=5)\n",
        "    print(\"Accuracy:\", round(acc.mean(), 3))\n",
        "    cm = pd.crosstab(y_train, predictions, rownames=['True'], \n",
        "                 colnames=['Predicted'], margins=True)\n",
        "    print(\"\\nConfusion Matrix:  \\n\", cm)\n",
        "    print(\"\\n                    Classification Report \\n\",\n",
        "          classification_report(y_train, predictions))"
      ],
      "execution_count": 0,
      "outputs": []
    },
    {
      "metadata": {
        "id": "czaSkaw-gaZ6",
        "colab_type": "text"
      },
      "cell_type": "markdown",
      "source": [
        "## **Doc2Vec Classification Models**"
      ]
    },
    {
      "metadata": {
        "id": "y2JoJhdCYfbH",
        "colab_type": "code",
        "outputId": "bc8695aa-ab4f-4696-8957-65d2db700cc3",
        "colab": {
          "base_uri": "https://localhost:8080/",
          "height": 353
        }
      },
      "cell_type": "code",
      "source": [
        "# Random Forest Classifier\n",
        "rfc = RandomForestClassifier(n_estimators=100, n_jobs=-1)\n",
        "auto_model(rfc, \"Random Forest Classifier\",\n",
        "           train_vecs_d2v, validation_vecs_d2v, y_train_d2v, y_validation_d2v)"
      ],
      "execution_count": 0,
      "outputs": [
        {
          "output_type": "stream",
          "text": [
            "Random Forest Classifier\n",
            "Accuracy: 0.675\n",
            "\n",
            "Confusion Matrix:  \n",
            " Predicted     -1      1     All\n",
            "True                           \n",
            "-1         59614  25791   85405\n",
            "1          29654  55755   85409\n",
            "All        89268  81546  170814\n",
            "\n",
            "                    Classification Report \n",
            "               precision    recall  f1-score   support\n",
            "\n",
            "          -1       0.67      0.70      0.68     85405\n",
            "           1       0.68      0.65      0.67     85409\n",
            "\n",
            "   micro avg       0.68      0.68      0.68    170814\n",
            "   macro avg       0.68      0.68      0.68    170814\n",
            "weighted avg       0.68      0.68      0.68    170814\n",
            "\n"
          ],
          "name": "stdout"
        }
      ]
    },
    {
      "metadata": {
        "id": "DaRNptRdYfK_",
        "colab_type": "code",
        "outputId": "c2812170-adb1-4ac5-df47-13b74def6962",
        "colab": {
          "base_uri": "https://localhost:8080/",
          "height": 353
        }
      },
      "cell_type": "code",
      "source": [
        "# Gaussian Naive Bayes\n",
        "gnb = GaussianNB()\n",
        "auto_model(gnb, \"Gaussian Naive Bayes\", \n",
        "              train_vecs_d2v, validation_vecs_d2v, y_train_d2v, \n",
        "              y_validation_d2v)"
      ],
      "execution_count": 0,
      "outputs": [
        {
          "output_type": "stream",
          "text": [
            "Gaussian Naive Bayes\n",
            "Accuracy: 0.531\n",
            "\n",
            "Confusion Matrix:  \n",
            " Predicted     -1       1     All\n",
            "True                            \n",
            "-1         28508   56897   85405\n",
            "1          23185   62224   85409\n",
            "All        51693  119121  170814\n",
            "\n",
            "                    Classification Report \n",
            "               precision    recall  f1-score   support\n",
            "\n",
            "          -1       0.55      0.33      0.42     85405\n",
            "           1       0.52      0.73      0.61     85409\n",
            "\n",
            "   micro avg       0.53      0.53      0.53    170814\n",
            "   macro avg       0.54      0.53      0.51    170814\n",
            "weighted avg       0.54      0.53      0.51    170814\n",
            "\n"
          ],
          "name": "stdout"
        }
      ]
    },
    {
      "metadata": {
        "id": "ChfYB5SXfTfG",
        "colab_type": "code",
        "outputId": "b96ff55d-1acd-4134-9cbc-0c0c3375e8b4",
        "colab": {
          "base_uri": "https://localhost:8080/",
          "height": 353
        }
      },
      "cell_type": "code",
      "source": [
        "# Logistic Regression\n",
        "log = LogisticRegression(solver='lbfgs')\n",
        "auto_model(log, \"Logistic Regression\", train_vecs_d2v, validation_vecs_d2v, \n",
        "              y_train_d2v, y_validation_d2v)"
      ],
      "execution_count": 0,
      "outputs": [
        {
          "output_type": "stream",
          "text": [
            "Logistic Regression\n",
            "Accuracy: 0.585\n",
            "\n",
            "Confusion Matrix:  \n",
            " Predicted     -1      1     All\n",
            "True                           \n",
            "-1         49729  35676   85405\n",
            "1          35153  50256   85409\n",
            "All        84882  85932  170814\n",
            "\n",
            "                    Classification Report \n",
            "               precision    recall  f1-score   support\n",
            "\n",
            "          -1       0.59      0.58      0.58     85405\n",
            "           1       0.58      0.59      0.59     85409\n",
            "\n",
            "   micro avg       0.59      0.59      0.59    170814\n",
            "   macro avg       0.59      0.59      0.59    170814\n",
            "weighted avg       0.59      0.59      0.59    170814\n",
            "\n"
          ],
          "name": "stdout"
        }
      ]
    },
    {
      "metadata": {
        "id": "EYspkdVEfTTA",
        "colab_type": "code",
        "outputId": "df4097c4-47e5-404d-e7c1-396c7263ac0b",
        "colab": {
          "base_uri": "https://localhost:8080/",
          "height": 353
        }
      },
      "cell_type": "code",
      "source": [
        "# Linear SVC\n",
        "svc = LinearSVC()\n",
        "auto_model(svc, \"Linear SVC\", train_vecs_d2v, validation_vecs_d2v, \n",
        "              y_train_d2v, y_validation_d2v)"
      ],
      "execution_count": 0,
      "outputs": [
        {
          "output_type": "stream",
          "text": [
            "Linear SVC\n",
            "Accuracy: 0.585\n",
            "\n",
            "Confusion Matrix:  \n",
            " Predicted     -1      1     All\n",
            "True                           \n",
            "-1         49711  35694   85405\n",
            "1          35150  50259   85409\n",
            "All        84861  85953  170814\n",
            "\n",
            "                    Classification Report \n",
            "               precision    recall  f1-score   support\n",
            "\n",
            "          -1       0.59      0.58      0.58     85405\n",
            "           1       0.58      0.59      0.59     85409\n",
            "\n",
            "   micro avg       0.59      0.59      0.59    170814\n",
            "   macro avg       0.59      0.59      0.59    170814\n",
            "weighted avg       0.59      0.59      0.59    170814\n",
            "\n"
          ],
          "name": "stdout"
        }
      ]
    },
    {
      "metadata": {
        "id": "bVVaRn7_fTB0",
        "colab_type": "code",
        "outputId": "665d9cd3-b459-4923-94c4-de4d42f1401e",
        "colab": {
          "base_uri": "https://localhost:8080/",
          "height": 958
        }
      },
      "cell_type": "code",
      "source": [
        "df3.head(20)"
      ],
      "execution_count": 0,
      "outputs": [
        {
          "output_type": "execute_result",
          "data": {
            "text/html": [
              "<div>\n",
              "<style scoped>\n",
              "    .dataframe tbody tr th:only-of-type {\n",
              "        vertical-align: middle;\n",
              "    }\n",
              "\n",
              "    .dataframe tbody tr th {\n",
              "        vertical-align: top;\n",
              "    }\n",
              "\n",
              "    .dataframe thead th {\n",
              "        text-align: right;\n",
              "    }\n",
              "</style>\n",
              "<table border=\"1\" class=\"dataframe\">\n",
              "  <thead>\n",
              "    <tr style=\"text-align: right;\">\n",
              "      <th></th>\n",
              "      <th>tweet</th>\n",
              "      <th>word_count</th>\n",
              "      <th>character_count</th>\n",
              "      <th>filtered_tweet</th>\n",
              "      <th>clean</th>\n",
              "      <th>SA</th>\n",
              "      <th>SA2</th>\n",
              "    </tr>\n",
              "  </thead>\n",
              "  <tbody>\n",
              "    <tr>\n",
              "      <th>380517</th>\n",
              "      <td>RT @StevenBeschloss: At this point, if Trump a...</td>\n",
              "      <td>24</td>\n",
              "      <td>139</td>\n",
              "      <td>point trump announces end shutdown acknowledge...</td>\n",
              "      <td>this point  trump announces  end  the shutdow...</td>\n",
              "      <td>0</td>\n",
              "      <td>-1</td>\n",
              "    </tr>\n",
              "    <tr>\n",
              "      <th>385536</th>\n",
              "      <td>'Special Counsel'\"</td>\n",
              "      <td>2</td>\n",
              "      <td>18</td>\n",
              "      <td>special counsel</td>\n",
              "      <td>special counsel</td>\n",
              "      <td>1</td>\n",
              "      <td>1</td>\n",
              "    </tr>\n",
              "    <tr>\n",
              "      <th>123191</th>\n",
              "      <td>@realDonaldTrump You actually mean TRUMP FIRST...</td>\n",
              "      <td>21</td>\n",
              "      <td>117</td>\n",
              "      <td>realdonaldtrump actually mean trump write say ...</td>\n",
              "      <td>realdonaldtrump you actually mean trump first ...</td>\n",
              "      <td>-1</td>\n",
              "      <td>1</td>\n",
              "    </tr>\n",
              "    <tr>\n",
              "      <th>389060</th>\n",
              "      <td>RT @DavidWohl: CNN and MSNBC eating massive cr...</td>\n",
              "      <td>22</td>\n",
              "      <td>140</td>\n",
              "      <td>cnn msnbc eating massive crow mueller refutes ...</td>\n",
              "      <td>cnn and msnbc eating massive crow after muelle...</td>\n",
              "      <td>-1</td>\n",
              "      <td>-1</td>\n",
              "    </tr>\n",
              "    <tr>\n",
              "      <th>252893</th>\n",
              "      <td>RT @RudyGiuliani: I commend Bob Mueller’s offi...</td>\n",
              "      <td>23</td>\n",
              "      <td>140</td>\n",
              "      <td>commend bob mueller s office correcting buzzfe...</td>\n",
              "      <td>commend bob mueller  office for correcting th...</td>\n",
              "      <td>-1</td>\n",
              "      <td>-1</td>\n",
              "    </tr>\n",
              "    <tr>\n",
              "      <th>335720</th>\n",
              "      <td>RT @PatrickRandall: Y''know what? I think Obam...</td>\n",
              "      <td>26</td>\n",
              "      <td>142</td>\n",
              "      <td>y know think obama looked damn good tan suit h...</td>\n",
              "      <td>know what  think obama looked damn good  that...</td>\n",
              "      <td>1</td>\n",
              "      <td>1</td>\n",
              "    </tr>\n",
              "    <tr>\n",
              "      <th>152097</th>\n",
              "      <td>RT @Bornabrit1: TRUMP - U STUPID IDIOT\\n\\nTaki...</td>\n",
              "      <td>22</td>\n",
              "      <td>142</td>\n",
              "      <td>trump u stupid idiot taking orders coulter amp...</td>\n",
              "      <td>trump  stupid idiot taking orders from coulter...</td>\n",
              "      <td>-1</td>\n",
              "      <td>-1</td>\n",
              "    </tr>\n",
              "    <tr>\n",
              "      <th>178053</th>\n",
              "      <td>RT @ProudResister: #PresidentPelosi is trendin...</td>\n",
              "      <td>23</td>\n",
              "      <td>140</td>\n",
              "      <td>presidentpelosi trending time american history...</td>\n",
              "      <td>presidentpelosi  trending because for the firs...</td>\n",
              "      <td>0</td>\n",
              "      <td>1</td>\n",
              "    </tr>\n",
              "    <tr>\n",
              "      <th>380669</th>\n",
              "      <td>RT @mattmfm: Once Trump has vacated the White ...</td>\n",
              "      <td>23</td>\n",
              "      <td>140</td>\n",
              "      <td>trump vacated white house national nightmare f...</td>\n",
              "      <td>once trump has vacated the white house and thi...</td>\n",
              "      <td>0</td>\n",
              "      <td>-1</td>\n",
              "    </tr>\n",
              "    <tr>\n",
              "      <th>329898</th>\n",
              "      <td>@EdroDrizzo @JamieOrtegafree @willllbud It's f...</td>\n",
              "      <td>18</td>\n",
              "      <td>140</td>\n",
              "      <td>edrodrizzo jamieortegafree willllbud s funny c...</td>\n",
              "      <td>edrodrizzo jamieortegafree willllbud   funny y...</td>\n",
              "      <td>1</td>\n",
              "      <td>1</td>\n",
              "    </tr>\n",
              "    <tr>\n",
              "      <th>83892</th>\n",
              "      <td>RT @ggreenwald: 24 straight hours of completel...</td>\n",
              "      <td>22</td>\n",
              "      <td>140</td>\n",
              "      <td>straight hours completely uncritical mindless ...</td>\n",
              "      <td>straight hours  completely uncritical mindless...</td>\n",
              "      <td>-1</td>\n",
              "      <td>-1</td>\n",
              "    </tr>\n",
              "    <tr>\n",
              "      <th>299014</th>\n",
              "      <td>RT @PrisonPlanet: How on earth is BuzzFeed not...</td>\n",
              "      <td>21</td>\n",
              "      <td>140</td>\n",
              "      <td>earth buzzfeed trending right yest trump russi...</td>\n",
              "      <td>how  earth  buzzfeed not trending right now ye...</td>\n",
              "      <td>1</td>\n",
              "      <td>1</td>\n",
              "    </tr>\n",
              "    <tr>\n",
              "      <th>224963</th>\n",
              "      <td>RT @neeratanden: Any CEO who runs third party ...</td>\n",
              "      <td>15</td>\n",
              "      <td>112</td>\n",
              "      <td>ceo runs party help elect trump pretty outrageous</td>\n",
              "      <td>any ceo who runs third party could help elect ...</td>\n",
              "      <td>1</td>\n",
              "      <td>1</td>\n",
              "    </tr>\n",
              "    <tr>\n",
              "      <th>25438</th>\n",
              "      <td>RT @BuzzFeedNews: UPDATE: A spokesperson for t...</td>\n",
              "      <td>16</td>\n",
              "      <td>140</td>\n",
              "      <td>update spokesperson special counsel disputing ...</td>\n",
              "      <td>update  spokesperson for the special counsel  ...</td>\n",
              "      <td>1</td>\n",
              "      <td>1</td>\n",
              "    </tr>\n",
              "    <tr>\n",
              "      <th>125314</th>\n",
              "      <td>RT @CyrusMMcQueen: How can Trump tease a Natio...</td>\n",
              "      <td>19</td>\n",
              "      <td>139</td>\n",
              "      <td>trump tease national emergency emergency conno...</td>\n",
              "      <td>how can trump tease  national emergency  emerg...</td>\n",
              "      <td>-1</td>\n",
              "      <td>-1</td>\n",
              "    </tr>\n",
              "    <tr>\n",
              "      <th>414152</th>\n",
              "      <td>RT @_ROB_29: George W. Bush delivers pizza to ...</td>\n",
              "      <td>20</td>\n",
              "      <td>141</td>\n",
              "      <td>george w bush delivers pizza secret service wo...</td>\n",
              "      <td>george  bush delivers pizza  secret service de...</td>\n",
              "      <td>-1</td>\n",
              "      <td>-1</td>\n",
              "    </tr>\n",
              "    <tr>\n",
              "      <th>57805</th>\n",
              "      <td>@kurteichenwald Dude do you not remember posti...</td>\n",
              "      <td>16</td>\n",
              "      <td>95</td>\n",
              "      <td>kurteichenwald dude remember posting trump men...</td>\n",
              "      <td>kurteichenwald dude  you not remember posting ...</td>\n",
              "      <td>-1</td>\n",
              "      <td>-1</td>\n",
              "    </tr>\n",
              "    <tr>\n",
              "      <th>160275</th>\n",
              "      <td>RT @TheLastWord: Pelosi: Trump's decision to m...</td>\n",
              "      <td>15</td>\n",
              "      <td>140</td>\n",
              "      <td>pelosi trump s decision make lawmakers afghani...</td>\n",
              "      <td>pelosi trump  decision  make lawmakers afghani...</td>\n",
              "      <td>-1</td>\n",
              "      <td>-1</td>\n",
              "    </tr>\n",
              "    <tr>\n",
              "      <th>398695</th>\n",
              "      <td>Trump &amp;amp; Republicans, who control the House...</td>\n",
              "      <td>19</td>\n",
              "      <td>144</td>\n",
              "      <td>trump amp republicans control house senate shu...</td>\n",
              "      <td>trump amp republicans who control the house an...</td>\n",
              "      <td>0</td>\n",
              "      <td>-1</td>\n",
              "    </tr>\n",
              "    <tr>\n",
              "      <th>416132</th>\n",
              "      <td>RT @LynxPointe: Wow! As one of President Trump...</td>\n",
              "      <td>22</td>\n",
              "      <td>139</td>\n",
              "      <td>wow president trump loyal supporters called st...</td>\n",
              "      <td>wow  one  president trump loyal supporters  ha...</td>\n",
              "      <td>-1</td>\n",
              "      <td>-1</td>\n",
              "    </tr>\n",
              "  </tbody>\n",
              "</table>\n",
              "</div>"
            ],
            "text/plain": [
              "                                                    tweet  word_count  \\\n",
              "380517  RT @StevenBeschloss: At this point, if Trump a...          24   \n",
              "385536                                 'Special Counsel'\"           2   \n",
              "123191  @realDonaldTrump You actually mean TRUMP FIRST...          21   \n",
              "389060  RT @DavidWohl: CNN and MSNBC eating massive cr...          22   \n",
              "252893  RT @RudyGiuliani: I commend Bob Mueller’s offi...          23   \n",
              "335720  RT @PatrickRandall: Y''know what? I think Obam...          26   \n",
              "152097  RT @Bornabrit1: TRUMP - U STUPID IDIOT\\n\\nTaki...          22   \n",
              "178053  RT @ProudResister: #PresidentPelosi is trendin...          23   \n",
              "380669  RT @mattmfm: Once Trump has vacated the White ...          23   \n",
              "329898  @EdroDrizzo @JamieOrtegafree @willllbud It's f...          18   \n",
              "83892   RT @ggreenwald: 24 straight hours of completel...          22   \n",
              "299014  RT @PrisonPlanet: How on earth is BuzzFeed not...          21   \n",
              "224963  RT @neeratanden: Any CEO who runs third party ...          15   \n",
              "25438   RT @BuzzFeedNews: UPDATE: A spokesperson for t...          16   \n",
              "125314  RT @CyrusMMcQueen: How can Trump tease a Natio...          19   \n",
              "414152  RT @_ROB_29: George W. Bush delivers pizza to ...          20   \n",
              "57805   @kurteichenwald Dude do you not remember posti...          16   \n",
              "160275  RT @TheLastWord: Pelosi: Trump's decision to m...          15   \n",
              "398695  Trump &amp; Republicans, who control the House...          19   \n",
              "416132  RT @LynxPointe: Wow! As one of President Trump...          22   \n",
              "\n",
              "        character_count                                     filtered_tweet  \\\n",
              "380517              139  point trump announces end shutdown acknowledge...   \n",
              "385536               18                                    special counsel   \n",
              "123191              117  realdonaldtrump actually mean trump write say ...   \n",
              "389060              140  cnn msnbc eating massive crow mueller refutes ...   \n",
              "252893              140  commend bob mueller s office correcting buzzfe...   \n",
              "335720              142  y know think obama looked damn good tan suit h...   \n",
              "152097              142  trump u stupid idiot taking orders coulter amp...   \n",
              "178053              140  presidentpelosi trending time american history...   \n",
              "380669              140  trump vacated white house national nightmare f...   \n",
              "329898              140  edrodrizzo jamieortegafree willllbud s funny c...   \n",
              "83892               140  straight hours completely uncritical mindless ...   \n",
              "299014              140  earth buzzfeed trending right yest trump russi...   \n",
              "224963              112  ceo runs party help elect trump pretty outrageous   \n",
              "25438               140  update spokesperson special counsel disputing ...   \n",
              "125314              139  trump tease national emergency emergency conno...   \n",
              "414152              141  george w bush delivers pizza secret service wo...   \n",
              "57805                95  kurteichenwald dude remember posting trump men...   \n",
              "160275              140  pelosi trump s decision make lawmakers afghani...   \n",
              "398695              144  trump amp republicans control house senate shu...   \n",
              "416132              139  wow president trump loyal supporters called st...   \n",
              "\n",
              "                                                    clean  SA  SA2  \n",
              "380517   this point  trump announces  end  the shutdow...   0   -1  \n",
              "385536                                    special counsel   1    1  \n",
              "123191  realdonaldtrump you actually mean trump first ...  -1    1  \n",
              "389060  cnn and msnbc eating massive crow after muelle...  -1   -1  \n",
              "252893   commend bob mueller  office for correcting th...  -1   -1  \n",
              "335720   know what  think obama looked damn good  that...   1    1  \n",
              "152097  trump  stupid idiot taking orders from coulter...  -1   -1  \n",
              "178053  presidentpelosi  trending because for the firs...   0    1  \n",
              "380669  once trump has vacated the white house and thi...   0   -1  \n",
              "329898  edrodrizzo jamieortegafree willllbud   funny y...   1    1  \n",
              "83892   straight hours  completely uncritical mindless...  -1   -1  \n",
              "299014  how  earth  buzzfeed not trending right now ye...   1    1  \n",
              "224963  any ceo who runs third party could help elect ...   1    1  \n",
              "25438   update  spokesperson for the special counsel  ...   1    1  \n",
              "125314  how can trump tease  national emergency  emerg...  -1   -1  \n",
              "414152  george  bush delivers pizza  secret service de...  -1   -1  \n",
              "57805   kurteichenwald dude  you not remember posting ...  -1   -1  \n",
              "160275  pelosi trump  decision  make lawmakers afghani...  -1   -1  \n",
              "398695  trump amp republicans who control the house an...   0   -1  \n",
              "416132  wow  one  president trump loyal supporters  ha...  -1   -1  "
            ]
          },
          "metadata": {
            "tags": []
          },
          "execution_count": 89
        }
      ]
    },
    {
      "metadata": {
        "colab_type": "text",
        "id": "BIMrjnX51qx2"
      },
      "cell_type": "markdown",
      "source": [
        "# **Preparing Data for Pytorch**"
      ]
    },
    {
      "metadata": {
        "id": "qOjL-0MNlaDp",
        "colab_type": "code",
        "colab": {}
      },
      "cell_type": "code",
      "source": [
        ""
      ],
      "execution_count": 0,
      "outputs": []
    },
    {
      "metadata": {
        "id": "aRQj7OnoRdWO",
        "colab_type": "code",
        "colab": {}
      },
      "cell_type": "code",
      "source": [
        "from collections import Counter\n",
        "\n",
        "## Build a dictionary that maps words to integers\n",
        "counts = Counter(words)\n",
        "vocab = sorted(counts, key=counts.get, reverse=True)\n",
        "vocab_to_int = {word: ii for ii, word in enumerate(vocab, 1)}\n",
        "\n",
        "## use the dict to tokenize each review in reviews_split\n",
        "## store the tokenized reviews in reviews_ints\n",
        "tweet_ints = []\n",
        "for tweet in tweet_split:\n",
        "    tweet_ints.append([vocab_to_int[word] for word in tweet.split()])"
      ],
      "execution_count": 0,
      "outputs": []
    },
    {
      "metadata": {
        "id": "iqUMcVo_vANL",
        "colab_type": "code",
        "outputId": "c350808b-9207-48be-ba13-feb1eb640c37",
        "colab": {
          "base_uri": "https://localhost:8080/",
          "height": 34
        }
      },
      "cell_type": "code",
      "source": [
        "vocab[1]"
      ],
      "execution_count": 0,
      "outputs": [
        {
          "output_type": "execute_result",
          "data": {
            "text/plain": [
              "'trump'"
            ]
          },
          "metadata": {
            "tags": []
          },
          "execution_count": 42
        }
      ]
    },
    {
      "metadata": {
        "id": "zjsxQkK7kPRg",
        "colab_type": "code",
        "outputId": "72fc721c-927d-4716-bbb6-0e95c1858d20",
        "colab": {
          "base_uri": "https://localhost:8080/",
          "height": 50
        }
      },
      "cell_type": "code",
      "source": [
        "\n",
        "# stats about vocabulary\n",
        "print('Unique words: ', len((vocab_to_int)))  \n",
        "print()"
      ],
      "execution_count": 0,
      "outputs": [
        {
          "output_type": "stream",
          "text": [
            "Unique words:  33593\n",
            "\n"
          ],
          "name": "stdout"
        }
      ]
    },
    {
      "metadata": {
        "id": "46ifj23cTGzG",
        "colab_type": "code",
        "outputId": "1c16f252-a76b-45ee-89c9-bbaac0c69619",
        "colab": {
          "base_uri": "https://localhost:8080/",
          "height": 50
        }
      },
      "cell_type": "code",
      "source": [
        "# outlier tweet stats\n",
        "tweet_lens = Counter([len(x) for x in tweet_ints])\n",
        "print(\"Zero-length tweets: {}\".format(tweet_lens[0]))\n",
        "print(\"Maximum tweet word count: {}\".format(max(tweet_lens)))"
      ],
      "execution_count": 0,
      "outputs": [
        {
          "output_type": "stream",
          "text": [
            "Zero-length tweets: 0\n",
            "Maximum tweet word count: 26\n"
          ],
          "name": "stdout"
        }
      ]
    },
    {
      "metadata": {
        "id": "POfLRIOZXB9W",
        "colab_type": "code",
        "colab": {}
      },
      "cell_type": "code",
      "source": [
        "def pad_features(tweet_ints, seq_length):\n",
        "    ''' Return features of tweet_ints, where each tweet is padded with 0's \n",
        "        or truncated to the input seq_length.\n",
        "    '''\n",
        "    \n",
        "    # getting the correct rows x cols shape\n",
        "    features = np.zeros((len(tweet_ints), seq_length), dtype=int)\n",
        "\n",
        "    # for each review, I grab that review and \n",
        "    for i, row in enumerate(tweet_ints):\n",
        "        features[i, -len(row):] = np.array(row)[:seq_length]\n",
        "    \n",
        "    return features"
      ],
      "execution_count": 0,
      "outputs": []
    },
    {
      "metadata": {
        "id": "kTsb9481Xlo9",
        "colab_type": "code",
        "colab": {}
      },
      "cell_type": "code",
      "source": [
        "# Test your implementation!\n",
        "\n",
        "seq_length = 26\n",
        "\n",
        "features = pad_features(tweet_ints, seq_length=seq_length)\n",
        "\n",
        "## test statements - do not change - ##\n",
        "assert len(features)==len(tweet_ints), \"Your features should have as many rows as reviews.\"\n",
        "assert len(features[0])==seq_length, \"Each feature row should contain seq_length values.\"\n",
        "\n",
        "# print last 20 values of the first 30 batches \n",
        "#features[:, 30:43]"
      ],
      "execution_count": 0,
      "outputs": []
    },
    {
      "metadata": {
        "id": "2WY7J7KiXrLy",
        "colab_type": "code",
        "outputId": "5397702e-c705-4d91-e492-ac1c3efaf398",
        "colab": {
          "base_uri": "https://localhost:8080/",
          "height": 84
        }
      },
      "cell_type": "code",
      "source": [
        "\n",
        "split_frac = 0.8\n",
        "\n",
        "## split data into training, validation, and test data (features and labels, x and y)\n",
        "\n",
        "split_idx = int(len(features)*split_frac)\n",
        "train_x, remaining_x = features[:split_idx], features[split_idx:]\n",
        "train_y, remaining_y = encoded_labels[:split_idx], encoded_labels[split_idx:]\n",
        "\n",
        "test_idx = int(len(remaining_x)*0.5)\n",
        "val_x, test_x = remaining_x[:test_idx], remaining_x[test_idx:]\n",
        "val_y, test_y = remaining_y[:test_idx], remaining_y[test_idx:]\n",
        "\n",
        "## print out the shapes of your resultant feature data\n",
        "print(\"\\t\\t\\tFeature Shapes:\")\n",
        "print(\"Train set: \\t\\t{}\".format(train_x.shape), \n",
        "      \"\\nValidation set: \\t{}\".format(val_x.shape),\n",
        "      \"\\nTest set: \\t\\t{}\".format(test_x.shape))"
      ],
      "execution_count": 0,
      "outputs": [
        {
          "output_type": "stream",
          "text": [
            "\t\t\tFeature Shapes:\n",
            "Train set: \t\t(139440, 26) \n",
            "Validation set: \t(17430, 26) \n",
            "Test set: \t\t(17430, 26)\n"
          ],
          "name": "stdout"
        }
      ]
    },
    {
      "metadata": {
        "id": "R-GEkIPLp9la",
        "colab_type": "text"
      },
      "cell_type": "markdown",
      "source": [
        "## **DataLoaders and Batching**\n",
        "After creating training, test, and validation data, we can create DataLoaders for this data by following two steps:\n",
        "\n",
        "1.   Create a known format for accessing our data, using TensorDataset which takes in an input set of data and a target set of data with the same first dimension, and creates a dataset.\n",
        "2.   Create DataLoaders and batch our training, validation, and test Tensor datasets\n",
        "\n",
        "\n",
        "train_data = TensorDataset(torch.from_numpy(train_x), torch.from_numpy(train_y))\n",
        "\n",
        "train_loader = DataLoader(train_data, batch_size=batch_size)\n",
        "\n",
        "This is an alternative to creating a generator function for batching our data into full batches."
      ]
    },
    {
      "metadata": {
        "id": "9v_sjGMgo-1d",
        "colab_type": "code",
        "colab": {}
      },
      "cell_type": "code",
      "source": [
        "import torch\n",
        "from torch.utils.data import TensorDataset, DataLoader\n",
        "\n",
        "# create Tensor datasets\n",
        "train_data = TensorDataset(torch.from_numpy(train_x), torch.from_numpy(train_y))\n",
        "valid_data = TensorDataset(torch.from_numpy(val_x), torch.from_numpy(val_y))\n",
        "test_data = TensorDataset(torch.from_numpy(test_x), torch.from_numpy(test_y))\n",
        "\n",
        "# dataloaders\n",
        "batch_size = 30\n",
        "\n",
        "# make sure the SHUFFLE your training data\n",
        "train_loader = DataLoader(train_data, shuffle=True, batch_size=batch_size)\n",
        "valid_loader = DataLoader(valid_data, shuffle=True, batch_size=batch_size)\n",
        "test_loader = DataLoader(test_data, shuffle=True, batch_size=batch_size)"
      ],
      "execution_count": 0,
      "outputs": []
    },
    {
      "metadata": {
        "id": "uQ9MGl1aKBWA",
        "colab_type": "code",
        "outputId": "82b3fd31-9e34-4650-8520-8d2bee2038de",
        "colab": {
          "base_uri": "https://localhost:8080/",
          "height": 34
        }
      },
      "cell_type": "code",
      "source": [
        "torch.from_numpy(train_x)[17][:10]"
      ],
      "execution_count": 0,
      "outputs": [
        {
          "output_type": "execute_result",
          "data": {
            "text/plain": [
              "tensor([0, 0, 0, 0, 0, 0, 0, 0, 0, 0])"
            ]
          },
          "metadata": {
            "tags": []
          },
          "execution_count": 49
        }
      ]
    },
    {
      "metadata": {
        "id": "lWBEdtslqYj-",
        "colab_type": "code",
        "outputId": "6348dbc3-9810-4940-8b48-f3b6923b783a",
        "colab": {
          "base_uri": "https://localhost:8080/",
          "height": 1646
        }
      },
      "cell_type": "code",
      "source": [
        "# obtain one batch of training data\n",
        "dataiter = iter(train_loader)\n",
        "sample_x, sample_y = dataiter.next()\n",
        "\n",
        "print('Sample input size: ', sample_x.size()) # batch_size, seq_length\n",
        "print('Sample input: \\n', sample_x)\n",
        "print()\n",
        "print('Sample label size: ', sample_y.size()) # batch_size\n",
        "print('Sample label: \\n', sample_y)"
      ],
      "execution_count": 0,
      "outputs": [
        {
          "output_type": "stream",
          "text": [
            "Sample input size:  torch.Size([30, 26])\n",
            "Sample input: \n",
            " tensor([[    0,     0,     0,     0,     0,     0,     0,     0,     1,   109,\n",
            "            65,   203,     1,    81,    15,   179,   128,   178,    41,    66,\n",
            "            23,   220,     6,   118,   207,   163],\n",
            "        [    0,     0,     0,     0,     0,     0,     0,   155,    13,   559,\n",
            "            62,     3,    49,    43,   117,     2,    22,   258,   149,     8,\n",
            "           210,  2591,     1,  6713,  8553,  4134],\n",
            "        [    0,     0,     0,     0,     0,     0,     0,     0,     0,  1380,\n",
            "          1534,  3378,    89,  3015,  3379,   218,  3305,    71,    38,  2495,\n",
            "            25,    14,     2,     5,    93,  3380],\n",
            "        [    0,     0,     0,     0,     0,     0,     0,     0,     0,     0,\n",
            "             0,     0,     0,     0,   540,     1,   199,  1142,     3,    16,\n",
            "             3,  1836,   199,  1142,    34,     6],\n",
            "        [    0,     0,     0,     0,     0,     0,     0,     0,     0,     0,\n",
            "             0,     0,     0,    44,   450,    57,     2,  1206,  2851,   180,\n",
            "             1,    17,     1,   314,  2481,  2982],\n",
            "        [    0,     0,     0,     0,     0,     0,     0,     0,     0,     0,\n",
            "             0,   497,   406,     7,     1,   284,    18,    10,   443,     4,\n",
            "           368,     1,     2,   451,   432,   452],\n",
            "        [    0,     0,     0,     0,     0,     0,     0,     0,     0,     0,\n",
            "           124,   674,   594,     5,     2,   479,   505,   802,   913,   980,\n",
            "          1127,  1476,   555,  1477,   479,   923],\n",
            "        [    0,     0,     0,     0,     0,     0,     0,     0,     0,     0,\n",
            "            89,  5923,     6,     9,    11,   121,     6,    11,  5924,     1,\n",
            "            80,     3,  2783,     5,   132,   722],\n",
            "        [    0,     0,     0,     0,     0,     0,     0,     0,     0,   715,\n",
            "           846,   842,   408,     8,   835,   385,    43,   664,   458,     3,\n",
            "           149,   838,    41,     8,    12,   423],\n",
            "        [    0,     0,     0,     0,     0,     0,     0,     0,     0,     0,\n",
            "             0,     0,  3671,  1373,     4,     1,    21,    26,    46,     1,\n",
            "           754,     4,    15,    28,  1544,    81],\n",
            "        [    0,     0,     0,     0,     0,     0,     0,     0,     0,     0,\n",
            "             0,     0,     0,     0,     0,     0,     0,     0,     0,     0,\n",
            "             0,     9,   130,    23,    13,   373],\n",
            "        [    0,     0,     0,     0,     0,     0,     0,     0,     0,     1,\n",
            "            37,    51,    18,    10,   205,    12,   198,   188,    15,   164,\n",
            "           204,    51,   135,    18,    10,   138],\n",
            "        [    0,     0,     0,     0,     0,     0,     0,     0,     0,   972,\n",
            "             1,   172,   510,     2,   874,   942,   631,   974,   975,   976,\n",
            "           807,   977,   830,   896,   897,   519],\n",
            "        [    0,     0,     0,     0,     0,     0,     0,     0,     0,     0,\n",
            "             0,     0, 11434, 16561, 16562,  3716,   181,    29,    70,   476,\n",
            "           177,    93,   239,   104,   230,     2],\n",
            "        [    0,     0,     0,     0,     0,     0,     0,     0,     0,   144,\n",
            "           110,    13,    17,     5,   145,     1,     7,    60,    22,     4,\n",
            "           100,     2,   143,    16,    27,    83],\n",
            "        [    0,     0,     0,     0,     0,     0,     0,     0,  1559,   168,\n",
            "           333,  2984,     2,    98,     9,  1088,    47,    29,  2699,    54,\n",
            "          5578,   336,    28,  1915,   599,   562],\n",
            "        [    0,     0,     0,     0,     0,     0,     0,     0,     0,     0,\n",
            "             0,     0,     0,     0,     0,     0,     0,     0,     0,     0,\n",
            "             0,     0,     0,     0,     0,   111],\n",
            "        [    0,     0,     0,     0,     0,     0,     0,     0,     0,     0,\n",
            "             0,     0,     0,     0,     0,     0,     0,    13,    17,  3444,\n",
            "            94,    49,   182,     6,   656,  3976],\n",
            "        [    0,     0,     0,     0,     0,     0,     0,     0,     0,     0,\n",
            "             0,     0,     0,     0,     0,     6,   854,  1918,   416,     3,\n",
            "             9,   581,    86,    23,   523,    33],\n",
            "        [    0,     0,     0,     0,     0,     0,     0,     0,     0,   715,\n",
            "           846,   842,   408,     8,   835,   385,    43,   664,   458,     3,\n",
            "           149,   838,    41,     8,    12,   423],\n",
            "        [    0,     0,     0,     0,     0,     0,     0,     0,     0,     0,\n",
            "             0,     0,    44,   450,   299,   102,    40,     1,  2631,  1022,\n",
            "             1,  2103,   435,   941,    91,   760],\n",
            "        [    0,     0,     0,     0,     0,     0,     0,     0,     0,     0,\n",
            "             0,     0,     0,     0,     0,     0,     0,     0,     0,  1610,\n",
            "             6,    79,   166,    13,    99,   158],\n",
            "        [    0,     0,     0,     0,     0,     0,     0,     0,     0,     0,\n",
            "             0,  1286,     2,   337,   180,    12,  2172,   460,   168,  2171,\n",
            "           865,    85,   149,   180,   311,  1140],\n",
            "        [    0,     0,     0,     0,     0,     0,     0,     0,     0,     0,\n",
            "            30,    52,   115,    12,   117,     2,   159,    35,    53,   153,\n",
            "           162,   161,   111,   133,    31,   156],\n",
            "        [    0,     0,     0,     0,     0,     0,     0,     0,     0,     0,\n",
            "             0,  2279,     3,     1,    59,    98,     9,  1357,   546,     4,\n",
            "             2,    99,   114,    16,    27,    68],\n",
            "        [    0,     0,     0,     0,     0,     0,     0,     0,     0,     0,\n",
            "            91,     9,   283,   274,    11,    54,   302,   200,    14,    28,\n",
            "           304,   281,    25,   254,   252,   289],\n",
            "        [    0,     0,     0,     0,     0,     0,     0,     0,     0,     0,\n",
            "             0,     0,     0,     0,     0, 21696,   211,   332,   120,   134,\n",
            "         21697,   529,    41,     1,  7978,     2],\n",
            "        [    0,     0,     0,     0,     0,     0,     0,     0,     0,     0,\n",
            "             0,     0,     0,     0,     0,     0,     0,     0,     0,     0,\n",
            "           102,    42,    11,  7128,   131,  2787],\n",
            "        [    0,     0,     0,     0,     0,     0,     0,     0,     0,     0,\n",
            "             0,     0,     0,     2,   934,   141,   122,  4340,  1191,  2579,\n",
            "            48,   485,   141,   122,   718,  4337],\n",
            "        [    0,     0,     0,     0,     0,     0,     0,     0,     0,     0,\n",
            "             0,     2,   984,  1217,   124,  1208,   300,     1,    56,   287,\n",
            "           513,   947,   666,   582,    48,  1284]])\n",
            "\n",
            "Sample label size:  torch.Size([30])\n",
            "Sample label: \n",
            " tensor([1, 1, 1, 0, 1, 0, 1, 0, 0, 1, 0, 0, 0, 1, 0, 0, 0, 1, 0, 0, 0, 0, 0, 0,\n",
            "        0, 0, 0, 1, 1, 0])\n"
          ],
          "name": "stdout"
        }
      ]
    },
    {
      "metadata": {
        "id": "HzF8ZcV1qh9l",
        "colab_type": "text"
      },
      "cell_type": "markdown",
      "source": [
        "# Sentiment Network with PyTorch\n",
        "\n",
        "LSTM Neural Networks, which stand for Long Short-Term Memory, are a particular type of recurrent neural networks. LSTM networks manage to keep contextual information of inputs by integrating a loop that allows information to flow from one step to the next. \n",
        "\n",
        "Since tweets are  composed from a sequence of words, and the specific order of those words provide context to the sentiment of the tweet, it stands to reason this Neural Network should predict tweet sentiment well. \n",
        "\n",
        "<img src=\"https://github.com/udacity/deep-learning-v2-pytorch/blob/master/sentiment-rnn/assets/network_diagram.png?raw=1\" width=40%>\n",
        "\n",
        "The layers are as follows:\n",
        "1. An [embedding layer](https://pytorch.org/docs/stable/nn.html#embedding) that converts our word tokens (integers) into embeddings of a specific size.\n",
        "2. An [LSTM layer](https://pytorch.org/docs/stable/nn.html#lstm) defined by a hidden_state size and number of layers\n",
        "3. A fully-connected output layer that maps the LSTM layer outputs to a desired output_size\n",
        "4. A sigmoid activation layer which turns all outputs into a value 0-1; return **only the last sigmoid output** as the output of this network.\n",
        "\n",
        "### The Embedding Layer\n",
        "\n",
        "We need to add an [embedding layer](https://pytorch.org/docs/stable/nn.html#embedding) because there are tens of thousands of words in our vocabulary. It is massively inefficient to one-hot encode that many classes. So, instead of one-hot encoding, we can have an embedding layer and use that layer as a lookup table.** I could train an embedding layer using Word2Vec, then load it here. But, it's recommended to just make a new layer, using it for only dimensionality reduction, and let the network learn the weights.**\n",
        "\n",
        "\n",
        "### The LSTM Layer(s)\n",
        "\n",
        "We'll create an [LSTM](https://pytorch.org/docs/stable/nn.html#lstm) to use in our recurrent network, which takes in an input_size, a hidden_dim, a number of layers, a dropout probability (for dropout between multiple layers), and a batch_first parameter.\n",
        "\n",
        "\n",
        "\n"
      ]
    },
    {
      "metadata": {
        "id": "aJFmyyGyqcJb",
        "colab_type": "code",
        "outputId": "6c6074fd-7908-41c3-a5fd-10bc0ceee64b",
        "colab": {
          "base_uri": "https://localhost:8080/",
          "height": 34
        }
      },
      "cell_type": "code",
      "source": [
        "# First checking if GPU is available\n",
        "train_on_gpu=torch.cuda.is_available()\n",
        "\n",
        "if(train_on_gpu):\n",
        "    print('Training on GPU.')\n",
        "else:\n",
        "    print('No GPU available, training on CPU.')"
      ],
      "execution_count": 0,
      "outputs": [
        {
          "output_type": "stream",
          "text": [
            "Training on GPU.\n"
          ],
          "name": "stdout"
        }
      ]
    },
    {
      "metadata": {
        "id": "k3vBnTpIr_7G",
        "colab_type": "code",
        "colab": {}
      },
      "cell_type": "code",
      "source": [
        "\n",
        "import torch.nn as nn\n",
        "\n",
        "class SentimentRNN(nn.Module):\n",
        "    \"\"\"\n",
        "    The RNN model that will be used to perform Sentiment analysis.\n",
        "    \"\"\"\n",
        "\n",
        "    def __init__(self, vocab_size, output_size, embedding_dim, hidden_dim, n_layers, drop_prob=0.5):\n",
        "        \"\"\"\n",
        "        Initialize the model by setting up the layers.\n",
        "        \"\"\"\n",
        "        super(SentimentRNN, self).__init__()\n",
        "\n",
        "        self.output_size = output_size\n",
        "        self.n_layers = n_layers\n",
        "        self.hidden_dim = hidden_dim\n",
        "        \n",
        "        # embedding and LSTM layers\n",
        "        self.embedding = nn.Embedding(vocab_size, embedding_dim)\n",
        "        self.lstm = nn.LSTM(embedding_dim, hidden_dim, n_layers, \n",
        "                            dropout=drop_prob, batch_first=True)\n",
        "        \n",
        "        # dropout layer\n",
        "        self.dropout = nn.Dropout(0.3)\n",
        "        \n",
        "        # linear and sigmoid layers\n",
        "        self.fc = nn.Linear(hidden_dim, output_size)\n",
        "        self.sig = nn.Sigmoid()\n",
        "        \n",
        "\n",
        "    def forward(self, x, hidden):\n",
        "        \"\"\"\n",
        "        Perform a forward pass of our model on some input and hidden state.\n",
        "        \"\"\"\n",
        "        batch_size = x.size(0)\n",
        "\n",
        "        # embeddings and lstm_out\n",
        "        embeds = self.embedding(x)\n",
        "        lstm_out, hidden = self.lstm(embeds, hidden)\n",
        "    \n",
        "        # stack up lstm outputs\n",
        "        lstm_out = lstm_out.contiguous().view(-1, self.hidden_dim)\n",
        "        \n",
        "        # dropout and fully-connected layer\n",
        "        out = self.dropout(lstm_out)\n",
        "        out = self.fc(out)\n",
        "        # sigmoid function\n",
        "        sig_out = self.sig(out)\n",
        "        \n",
        "        # reshape to be batch_size first\n",
        "        sig_out = sig_out.view(batch_size, -1)\n",
        "        sig_out = sig_out[:, -1] # get last batch of labels\n",
        "        \n",
        "        # return last sigmoid output and hidden state\n",
        "        return sig_out, hidden\n",
        "    \n",
        "    \n",
        "    def init_hidden(self, batch_size):\n",
        "        ''' Initializes hidden state '''\n",
        "        # Create two new tensors with sizes n_layers x batch_size x hidden_dim,\n",
        "        # initialized to zero, for hidden state and cell state of LSTM\n",
        "        weight = next(self.parameters()).data\n",
        "        \n",
        "        if (train_on_gpu):\n",
        "            hidden = (weight.new(self.n_layers, batch_size, self.hidden_dim\n",
        "                                ).zero_().cuda(),\n",
        "                  weight.new(self.n_layers, batch_size, self.hidden_dim\n",
        "                            ).zero_().cuda())\n",
        "        else:\n",
        "            hidden = (weight.new(self.n_layers, batch_size, self.hidden_dim\n",
        "                                ).zero_(),\n",
        "                      weight.new(self.n_layers, batch_size, self.hidden_dim\n",
        "                                ).zero_())\n",
        "        \n",
        "        return hidden"
      ],
      "execution_count": 0,
      "outputs": []
    },
    {
      "metadata": {
        "id": "Ti1Ko6gOsWYH",
        "colab_type": "text"
      },
      "cell_type": "markdown",
      "source": [
        "## Instantiate the network\n",
        "\n",
        "Here, we'll instantiate the network. First up, defining the hyperparameters.\n",
        "\n",
        "* `vocab_size`: Size of our vocabulary or the range of values for our input, word tokens.\n",
        "* `output_size`: Size of our desired output; the number of class scores we want to output (pos/neg).\n",
        "* `embedding_dim`: Number of columns in the embedding lookup table; size of our embeddings.\n",
        "* `hidden_dim`: Number of units in the hidden layers of our LSTM cells. Usually larger is better performance wise. Common values are 128, 256, 512, etc.\n",
        "* `n_layers`: Number of LSTM layers in the network. Typically between 1-3"
      ]
    },
    {
      "metadata": {
        "id": "ND80bDVKvVGR",
        "colab_type": "code",
        "outputId": "5e0fb15a-d9be-433a-eeaf-c2a40b8b18d2",
        "colab": {
          "base_uri": "https://localhost:8080/",
          "height": 34
        }
      },
      "cell_type": "code",
      "source": [
        "len(vocab_to_int)"
      ],
      "execution_count": 0,
      "outputs": [
        {
          "output_type": "execute_result",
          "data": {
            "text/plain": [
              "33593"
            ]
          },
          "metadata": {
            "tags": []
          },
          "execution_count": 53
        }
      ]
    },
    {
      "metadata": {
        "id": "EebdJqW0sRX6",
        "colab_type": "code",
        "outputId": "05b66ba8-0744-4178-b704-f0dceec3d1b6",
        "colab": {
          "base_uri": "https://localhost:8080/",
          "height": 134
        }
      },
      "cell_type": "code",
      "source": [
        "# Instantiate the model w/ hyperparams\n",
        "vocab_size = len(vocab_to_int)+1 # +1 for the 0 padding + our word tokens\n",
        "output_size = 1\n",
        "embedding_dim = 300\n",
        "hidden_dim = 256\n",
        "n_layers = 2\n",
        "\n",
        "net = SentimentRNN(vocab_size, output_size, embedding_dim, hidden_dim, n_layers)\n",
        "\n",
        "print(net)"
      ],
      "execution_count": 0,
      "outputs": [
        {
          "output_type": "stream",
          "text": [
            "SentimentRNN(\n",
            "  (embedding): Embedding(33594, 300)\n",
            "  (lstm): LSTM(300, 256, num_layers=2, batch_first=True, dropout=0.5)\n",
            "  (dropout): Dropout(p=0.3)\n",
            "  (fc): Linear(in_features=256, out_features=1, bias=True)\n",
            "  (sig): Sigmoid()\n",
            ")\n"
          ],
          "name": "stdout"
        }
      ]
    },
    {
      "metadata": {
        "id": "E3VScg1Ot4h0",
        "colab_type": "text"
      },
      "cell_type": "markdown",
      "source": [
        "## Training\n",
        "​\n",
        "Below is the typical training code. \n",
        "​\n",
        ">We'll also be using a new kind of cross entropy loss, which is designed to work with a single Sigmoid output. [BCELoss](https://pytorch.org/docs/stable/nn.html#bceloss), or **Binary Cross Entropy Loss**, applies cross entropy loss to a single value between 0 and 1.\n",
        "​\n",
        "We also have some data and training hyparameters:\n",
        "​\n",
        "* `lr`: Learning rate for our optimizer.\n",
        "* `epochs`: Number of times to iterate through the training dataset.\n",
        "* `clip`: The maximum gradient value to clip at (to prevent exploding gradients)."
      ]
    },
    {
      "metadata": {
        "id": "2RK968_4tvOI",
        "colab_type": "code",
        "colab": {}
      },
      "cell_type": "code",
      "source": [
        "# loss and optimization functions\n",
        "lr=0.001\n",
        "\n",
        "criterion = nn.BCELoss()\n",
        "optimizer = torch.optim.Adam(net.parameters(), lr=lr)"
      ],
      "execution_count": 0,
      "outputs": []
    },
    {
      "metadata": {
        "id": "CXtPMfXsuHJG",
        "colab_type": "code",
        "outputId": "5513a30f-48e6-4af5-eeff-7c1c8a50c458",
        "colab": {
          "base_uri": "https://localhost:8080/",
          "height": 790
        }
      },
      "cell_type": "code",
      "source": [
        "\n",
        "# training params\n",
        "\n",
        "epochs = 1 # 3-4 is approx where I noticed the validation loss stop decreasing\n",
        "\n",
        "counter = 0\n",
        "print_every = 100\n",
        "clip=5 # gradient clipping\n",
        "\n",
        "train_loss = []\n",
        "val_loss1 = []\n",
        "\n",
        "# move model to GPU, if available\n",
        "if(train_on_gpu):\n",
        "    net.cuda()\n",
        "\n",
        "net.train()\n",
        "# train for some number of epochs\n",
        "for e in range(epochs):\n",
        "    # initialize hidden state\n",
        "    h = net.init_hidden(batch_size)\n",
        "\n",
        "    # batch loop\n",
        "    for inputs, labels in train_loader:\n",
        "        counter += 1\n",
        "\n",
        "        if(train_on_gpu):\n",
        "            inputs, labels = inputs.cuda(), labels.cuda()\n",
        "\n",
        "        # Creating new variables for the hidden state, otherwise\n",
        "        # we'd backprop through the entire training history\n",
        "        h = tuple([each.data for each in h])\n",
        "\n",
        "        # zero accumulated gradients\n",
        "        net.zero_grad()\n",
        "\n",
        "        # get the output from the model\n",
        "        output, h = net(inputs, h)\n",
        "\n",
        "        # calculate the loss and perform backprop\n",
        "        loss = criterion(output.squeeze(), labels.float())\n",
        "        loss.backward()\n",
        "        # `clip_grad_norm` helps prevent the exploding gradient problem in RNNs / LSTMs.\n",
        "        nn.utils.clip_grad_norm_(net.parameters(), clip)\n",
        "        optimizer.step()\n",
        "\n",
        "        # loss stats\n",
        "        if counter % print_every == 0:\n",
        "            # Get validation loss\n",
        "            val_h = net.init_hidden(batch_size)\n",
        "            val_losses = []\n",
        "            net.eval()\n",
        "            for inputs, labels in valid_loader:\n",
        "\n",
        "                # Creating new variables for the hidden state, otherwise\n",
        "                # we'd backprop through the entire training history\n",
        "                val_h = tuple([each.data for each in val_h])\n",
        "\n",
        "                if(train_on_gpu):\n",
        "                    inputs, labels = inputs.cuda(), labels.cuda()\n",
        "\n",
        "                output, val_h = net(inputs, val_h)\n",
        "                val_loss = criterion(output.squeeze(), labels.float())\n",
        "\n",
        "                val_losses.append(val_loss.item())\n",
        "\n",
        "            net.train()\n",
        "          \n",
        "            print(\"Epoch: {}/{}...\".format(e+1, epochs),\n",
        "                  \"Step: {}...\".format(counter),\n",
        "                  \"Loss: {:.6f}...\".format(loss.item()),\n",
        "                  \"Val Loss: {:.6f}\".format(np.mean(val_losses)))\n",
        "            train_loss.append(loss.item())\n",
        "            val_loss1.append(np.mean(val_losses))\n",
        "           "
      ],
      "execution_count": 0,
      "outputs": [
        {
          "output_type": "stream",
          "text": [
            "Epoch: 1/1... Step: 100... Loss: 0.404436... Val Loss: 0.499726\n",
            "Epoch: 1/1... Step: 200... Loss: 0.292273... Val Loss: 0.429494\n",
            "Epoch: 1/1... Step: 300... Loss: 0.305407... Val Loss: 0.292528\n",
            "Epoch: 1/1... Step: 400... Loss: 0.095894... Val Loss: 0.345706\n",
            "Epoch: 1/1... Step: 500... Loss: 0.210229... Val Loss: 0.225926\n",
            "Epoch: 1/1... Step: 600... Loss: 0.512075... Val Loss: 0.198713\n",
            "Epoch: 1/1... Step: 700... Loss: 0.176361... Val Loss: 0.267236\n",
            "Epoch: 1/1... Step: 800... Loss: 0.090797... Val Loss: 0.207843\n",
            "Epoch: 1/1... Step: 900... Loss: 0.056753... Val Loss: 0.189419\n",
            "Epoch: 1/1... Step: 1000... Loss: 0.382845... Val Loss: 0.228677\n",
            "Epoch: 1/1... Step: 1100... Loss: 0.070733... Val Loss: 0.229366\n",
            "Epoch: 1/1... Step: 1200... Loss: 0.041417... Val Loss: 0.195580\n",
            "Epoch: 1/1... Step: 1300... Loss: 0.137391... Val Loss: 0.176446\n",
            "Epoch: 1/1... Step: 1400... Loss: 0.018298... Val Loss: 0.178935\n",
            "Epoch: 1/1... Step: 1500... Loss: 0.123421... Val Loss: 0.163768\n",
            "Epoch: 1/1... Step: 1600... Loss: 0.167509... Val Loss: 0.136385\n",
            "Epoch: 1/1... Step: 1700... Loss: 0.130001... Val Loss: 0.161108\n",
            "Epoch: 1/1... Step: 1800... Loss: 0.325836... Val Loss: 0.170160\n",
            "Epoch: 1/1... Step: 1900... Loss: 0.018271... Val Loss: 0.123564\n",
            "Epoch: 1/1... Step: 2000... Loss: 0.016964... Val Loss: 0.109071\n",
            "Epoch: 1/1... Step: 2100... Loss: 0.022930... Val Loss: 0.129792\n",
            "Epoch: 1/1... Step: 2200... Loss: 0.056172... Val Loss: 0.111891\n",
            "Epoch: 1/1... Step: 2300... Loss: 0.029622... Val Loss: 0.065180\n",
            "Epoch: 1/1... Step: 2400... Loss: 0.114403... Val Loss: 0.124668\n",
            "Epoch: 1/1... Step: 2500... Loss: 0.152441... Val Loss: 0.079252\n",
            "Epoch: 1/1... Step: 2600... Loss: 0.040691... Val Loss: 0.107479\n",
            "Epoch: 1/1... Step: 2700... Loss: 0.086001... Val Loss: 0.118787\n",
            "Epoch: 1/1... Step: 2800... Loss: 0.036016... Val Loss: 0.075354\n",
            "Epoch: 1/1... Step: 2900... Loss: 0.262753... Val Loss: 0.108739\n",
            "Epoch: 1/1... Step: 3000... Loss: 0.028850... Val Loss: 0.073557\n",
            "Epoch: 1/1... Step: 3100... Loss: 0.014271... Val Loss: 0.122098\n",
            "Epoch: 1/1... Step: 3200... Loss: 0.153721... Val Loss: 0.076446\n",
            "Epoch: 1/1... Step: 3300... Loss: 0.036427... Val Loss: 0.101258\n",
            "Epoch: 1/1... Step: 3400... Loss: 0.026715... Val Loss: 0.094602\n",
            "Epoch: 1/1... Step: 3500... Loss: 0.075863... Val Loss: 0.076797\n",
            "Epoch: 1/1... Step: 3600... Loss: 0.014078... Val Loss: 0.080582\n",
            "Epoch: 1/1... Step: 3700... Loss: 0.158269... Val Loss: 0.121535\n",
            "Epoch: 1/1... Step: 3800... Loss: 0.090675... Val Loss: 0.079621\n",
            "Epoch: 1/1... Step: 3900... Loss: 0.172838... Val Loss: 0.071335\n",
            "Epoch: 1/1... Step: 4000... Loss: 0.001907... Val Loss: 0.056899\n",
            "Epoch: 1/1... Step: 4100... Loss: 0.052173... Val Loss: 0.059981\n",
            "Epoch: 1/1... Step: 4200... Loss: 0.050183... Val Loss: 0.063760\n",
            "Epoch: 1/1... Step: 4300... Loss: 0.054758... Val Loss: 0.081038\n",
            "Epoch: 1/1... Step: 4400... Loss: 0.150162... Val Loss: 0.083344\n",
            "Epoch: 1/1... Step: 4500... Loss: 0.148969... Val Loss: 0.049630\n",
            "Epoch: 1/1... Step: 4600... Loss: 0.167906... Val Loss: 0.089493\n"
          ],
          "name": "stdout"
        }
      ]
    },
    {
      "metadata": {
        "id": "411pEhPiuUxD",
        "colab_type": "code",
        "outputId": "3eba73d8-c05a-4715-d8ec-c31614f1eea5",
        "colab": {
          "base_uri": "https://localhost:8080/",
          "height": 353
        }
      },
      "cell_type": "code",
      "source": [
        "# Get test data loss and accuracy\n",
        "\n",
        "test_losses = [] # track loss\n",
        "num_correct = 0\n",
        "\n",
        "# init hidden state\n",
        "h = net.init_hidden(batch_size)\n",
        "\n",
        "net.eval()\n",
        "# iterate over test data\n",
        "for inputs, labels in test_loader:\n",
        "\n",
        "    # Creating new variables for the hidden state, otherwise\n",
        "    # we'd backprop through the entire training history\n",
        "    h = tuple([each.data for each in h])\n",
        "\n",
        "    if(train_on_gpu):\n",
        "        inputs, labels = inputs.cuda(), labels.cuda()\n",
        "    \n",
        "    # get predicted outputs\n",
        "    output, h = net(inputs, h)\n",
        "    \n",
        "    # calculate loss\n",
        "    test_loss = criterion(output.squeeze(), labels.float())\n",
        "    test_losses.append(test_loss.item())\n",
        "    \n",
        "    # convert output probabilities to predicted class (0 or 1)\n",
        "    pred = torch.round(output.squeeze())  # rounds to the nearest integer\n",
        "    \n",
        "    # compare predictions to true label\n",
        "    correct_tensor = pred.eq(labels.float().view_as(pred))\n",
        "    correct = np.squeeze(correct_tensor.numpy()) if not train_on_gpu else np.squeeze(correct_tensor.cpu().numpy())\n",
        "    num_correct += np.sum(correct)\n",
        "\n",
        "\n",
        "# -- stats! -- ##\n",
        "# avg test loss\n",
        "print(\"Test loss: {:.3f}\".format(np.mean(test_losses)))\n",
        "\n",
        "# accuracy over all test data\n",
        "test_acc = num_correct/len(test_loader.dataset)\n",
        "print(\"Test accuracy: {:.3f}\".format(test_acc))\n",
        "\n",
        "\n",
        "# Check the solution against the data.\n",
        "cm = pd.crosstab(pred.cpu().detach().numpy(), correct, rownames=['True'], \n",
        "                 colnames=['Predicted'], margins=True)\n",
        "print(\"\\nConfusion Matrix:  \\n\", cm)\n",
        "print(\"\\n                    Classification Report \\n\",\n",
        "      classification_report(pred.cpu().detach().numpy(), correct))"
      ],
      "execution_count": 0,
      "outputs": [
        {
          "output_type": "stream",
          "text": [
            "Test loss: 0.074\n",
            "Test accuracy: 0.976\n",
            "\n",
            "Confusion Matrix:  \n",
            " Predicted  0   1  All\n",
            "True                 \n",
            "0.0        2   0    2\n",
            "1.0        0  28   28\n",
            "All        2  28   30\n",
            "\n",
            "                    Classification Report \n",
            "               precision    recall  f1-score   support\n",
            "\n",
            "         0.0       1.00      1.00      1.00         2\n",
            "         1.0       1.00      1.00      1.00        28\n",
            "\n",
            "   micro avg       1.00      1.00      1.00        30\n",
            "   macro avg       1.00      1.00      1.00        30\n",
            "weighted avg       1.00      1.00      1.00        30\n",
            "\n"
          ],
          "name": "stdout"
        }
      ]
    },
    {
      "metadata": {
        "id": "u8JT7RuI71Tl",
        "colab_type": "text"
      },
      "cell_type": "markdown",
      "source": [
        ""
      ]
    },
    {
      "metadata": {
        "id": "PUxlOGPDanTu",
        "colab_type": "code",
        "outputId": "50494935-fa6d-4018-a68f-71abd599a0ed",
        "colab": {
          "base_uri": "https://localhost:8080/",
          "height": 280
        }
      },
      "cell_type": "code",
      "source": [
        "fig=plt.figure()\n",
        "fig.show()\n",
        "ax=fig.add_subplot(111)\n",
        "ax.plot(train_loss, c='b', label='Training Loss')\n",
        "ax.plot(val_loss1, c='r', label='Validation Loss')\n",
        "plt.xlim(0,40)\n",
        "\n",
        "plt.legend(loc='upper right')\n",
        "plt.title('Training vs Validation Loss')\n",
        "plt.savefig('trainvalloss2.png', dpi=300)\n",
        "plt.show()"
      ],
      "execution_count": 0,
      "outputs": [
        {
          "output_type": "display_data",
          "data": {
            "image/png": "[encoded data removed]",
            "text/plain": [
              "<Figure size 432x288 with 1 Axes>"
            ]
          },
          "metadata": {
            "tags": []
          }
        }
      ]
    },
    {
      "metadata": {
        "id": "b6DJJ-F3Xj5S",
        "colab_type": "code",
        "colab": {}
      },
      "cell_type": "code",
      "source": [
        "#torch.save(net.state_dict(), '/content/gdrive/My Drive/Data Science/net.pth')"
      ],
      "execution_count": 0,
      "outputs": []
    },
    {
      "metadata": {
        "id": "FBEeFE3RNuQn",
        "colab_type": "code",
        "colab": {}
      },
      "cell_type": "code",
      "source": [
        "#PATH = '/content/gdrive/My Drive/Data Science'\n",
        "#torch.save(SentimentRNN, '/content/gdrive/My Drive/Data Science/SentimentRNN.pth')\n"
      ],
      "execution_count": 0,
      "outputs": []
    },
    {
      "metadata": {
        "id": "HWLi4a6YEqMV",
        "colab_type": "text"
      },
      "cell_type": "markdown",
      "source": [
        "## **Testing the Network**"
      ]
    },
    {
      "metadata": {
        "id": "RiT5srQzKrDQ",
        "colab_type": "code",
        "colab": {}
      },
      "cell_type": "code",
      "source": [
        "from string import punctuation\n",
        "\n",
        "def tokenize_comment(test_comment):\n",
        "    \n",
        "    # Remove URLs\n",
        "    test_comment = test_comment.replace('https?://[A-Za-z0-9./]+','')\n",
        "    \n",
        "    # Keep Hashtag text\n",
        "    test_comment = test_comment.replace(\"[^a-zA-Z]\", \" \")\n",
        "    \n",
        "    # Remove whitespace\n",
        "    #test_comment = test_comment.replace(' ', '')\n",
        "    \n",
        "    # Remove 1-2 letter words\n",
        "    test_comment = test_comment.replace(\"r'\\b\\w{1,2}\\b\", '')\n",
        "    \n",
        "    # Remove numbers\n",
        "    test_comment = test_comment.replace('\\d+', '')\n",
        "    \n",
        "    # Lowercase\n",
        "    test_comment = test_comment.lower() # lowercase\n",
        "    \n",
        "    # get rid of punctuation\n",
        "    test_text = ''.join([c for c in test_comment if c not in punctuation])\n",
        "    \n",
        "    # Remove Stopwords\n",
        "    #test_text = ''.join([word for word in test_text.split() if word not in (stop)])\n",
        "    \n",
        "    # splitting by spaces\n",
        "    test_words = [word for word in test_text.split() if word not in (stop)]\n",
        "\n",
        "    # tokens\n",
        "    test_ints = []\n",
        "    test_ints.append([vocab_to_int[word] for word in test_words if word in vocab])\n",
        "\n",
        "    return test_ints\n"
      ],
      "execution_count": 0,
      "outputs": []
    },
    {
      "metadata": {
        "id": "ktwD0x6ZKu-F",
        "colab_type": "code",
        "colab": {}
      },
      "cell_type": "code",
      "source": [
        "# test sequence padding\n",
        "#seq_length=26\n",
        "#neg_features = pad_features(test_ints_neg, seq_length)\n",
        "#pos_features = pad_features(test_ints_pos, seq_length)"
      ],
      "execution_count": 0,
      "outputs": []
    },
    {
      "metadata": {
        "id": "sghvRJ7ePl2g",
        "colab_type": "code",
        "colab": {}
      },
      "cell_type": "code",
      "source": [
        "# test conversion to tensor and pass into your model\n",
        "#neg_feature_tensor = torch.from_numpy(neg_features)\n",
        "#pos_feature_tensor = torch.from_numpy(pos_features)"
      ],
      "execution_count": 0,
      "outputs": []
    },
    {
      "metadata": {
        "id": "2F1guDJuPpWV",
        "colab_type": "code",
        "colab": {}
      },
      "cell_type": "code",
      "source": [
        "def predict(net, test_comment, sequence_length=43):\n",
        "    \n",
        "    net.eval()\n",
        "    \n",
        "    # tokenize review\n",
        "    test_ints = tokenize_comment(test_comment)\n",
        "    \n",
        "    # pad tokenized sequence\n",
        "    seq_length=sequence_length\n",
        "    features = pad_features(test_ints, seq_length)\n",
        "    \n",
        "    # convert to tensor to pass into your model\n",
        "    feature_tensor = torch.from_numpy(features)\n",
        "    \n",
        "    batch_size = feature_tensor.size(0)\n",
        "    \n",
        "    # initialize hidden state\n",
        "    h = net.init_hidden(batch_size)\n",
        "    \n",
        "    if(train_on_gpu):\n",
        "        feature_tensor = feature_tensor.cuda()\n",
        "    \n",
        "    # get the output from the model\n",
        "    output, h = net(feature_tensor, h)\n",
        "    \n",
        "    # convert output probabilities to predicted class (0 or 1)\n",
        "    pred = torch.round(output.squeeze()) \n",
        "    # printing output value, before rounding\n",
        "    print('Prediction value, pre-rounding: {:.6f}'.format(output.item()))\n",
        "    \n",
        "    # print custom response\n",
        "    if(pred.item()==1):\n",
        "        print(\"Positive comment detected!\")\n",
        "    else:\n",
        "        print(\"Negative comment detected.\")"
      ],
      "execution_count": 0,
      "outputs": []
    },
    {
      "metadata": {
        "id": "auhpBi-_KlOa",
        "colab_type": "code",
        "colab": {}
      },
      "cell_type": "code",
      "source": [
        "# negative test comment\n",
        "test_comment_neg = \"Ashamed of my country today. This ban in hurtful and completely unnecessary. @realDonaldTrump, for someone so seemingly obsessed with national security, why are you stripping the rights of people who just want to protect us?! #transmilitaryban\"\n",
        "test_comment_neg2 = \"Mike says this is not good.\"\n",
        "\n",
        "# positive test comment\n",
        "test_comment_pos = \"A brilliant recognition by senior Dems of the ability of AOC, Tlaib, Pressley, and Khanna to drag Trump's ilk and put it on blast. Wish Omar had been included too, but oh well.\"\n",
        "test_comment_pos2 = \"You're not too bad.\""
      ],
      "execution_count": 0,
      "outputs": []
    },
    {
      "metadata": {
        "id": "yDmnHEiIPt4A",
        "colab_type": "code",
        "outputId": "b69a19a4-3a87-4147-9d86-fadcff6c53c5",
        "colab": {
          "base_uri": "https://localhost:8080/",
          "height": 50
        }
      },
      "cell_type": "code",
      "source": [
        "# Negative test 1\n",
        "seq_length=26 # good to use the length that was trained on\n",
        "\n",
        "predict(net, test_comment_neg, seq_length)"
      ],
      "execution_count": 0,
      "outputs": [
        {
          "output_type": "stream",
          "text": [
            "Prediction value, pre-rounding: 0.000236\n",
            "Negative comment detected.\n"
          ],
          "name": "stdout"
        }
      ]
    },
    {
      "metadata": {
        "id": "4NvLXn11P0lO",
        "colab_type": "code",
        "outputId": "427ec45c-baf2-49c6-c22a-a01856203144",
        "colab": {
          "base_uri": "https://localhost:8080/",
          "height": 50
        }
      },
      "cell_type": "code",
      "source": [
        "# Positive Test 1\n",
        "seq_length=26 \n",
        "\n",
        "predict(net, test_comment_pos, seq_length)"
      ],
      "execution_count": 0,
      "outputs": [
        {
          "output_type": "stream",
          "text": [
            "Prediction value, pre-rounding: 0.000886\n",
            "Negative comment detected.\n"
          ],
          "name": "stdout"
        }
      ]
    },
    {
      "metadata": {
        "id": "-VEqXttqSBhv",
        "colab_type": "code",
        "outputId": "836dbdda-bc70-44bd-e1c5-ee3a8b2d1437",
        "colab": {
          "base_uri": "https://localhost:8080/",
          "height": 50
        }
      },
      "cell_type": "code",
      "source": [
        "# Negative test 2\n",
        "seq_length=26 \n",
        "predict(net, test_comment_neg2, seq_length)"
      ],
      "execution_count": 0,
      "outputs": [
        {
          "output_type": "stream",
          "text": [
            "Prediction value, pre-rounding: 0.963603\n",
            "Positive comment detected!\n"
          ],
          "name": "stdout"
        }
      ]
    },
    {
      "metadata": {
        "id": "Az1VUUTAk1_H",
        "colab_type": "code",
        "outputId": "3af5b23f-99a2-4a53-94d7-2dd7a1b4c1ad",
        "colab": {
          "base_uri": "https://localhost:8080/",
          "height": 50
        }
      },
      "cell_type": "code",
      "source": [
        "# Positive Test 2\n",
        "seq_length=26 \n",
        "predict(net, test_comment_pos2, seq_length)"
      ],
      "execution_count": 0,
      "outputs": [
        {
          "output_type": "stream",
          "text": [
            "Prediction value, pre-rounding: 0.000261\n",
            "Negative comment detected.\n"
          ],
          "name": "stdout"
        }
      ]
    },
    {
      "metadata": {
        "id": "ogOmKkOu9Ujv",
        "colab_type": "text"
      },
      "cell_type": "markdown",
      "source": [
        "## Findings: LSTM RNN round 1\n"
      ]
    },
    {
      "metadata": {
        "id": "Y_d3f5vmnxxT",
        "colab_type": "text"
      },
      "cell_type": "markdown",
      "source": [
        "We have some issues with the LSTM model trained on the cleaned tweet that did not contain stop words. Despite reporting an accuracy of 98% we see several False Positives. The shortcomming is later vefied with the test string \"Mike says this is not good.\" The RNN predicts the string as positive which we know makes little sense.\n",
        "\n",
        "\n",
        "---\n",
        "\n",
        "\n",
        "\n",
        "![Test Predictions](https://drive.google.com/uc?id=1JO_EbkfTFbGBVsJvCY3wWKJFhAHhDYpa)\n",
        "\n",
        "\n",
        "---\n",
        "\n",
        "\n",
        "\n",
        "![Test Statistics](https://drive.google.com/uc?id=1TOKEfk-LRktvVCIXAMLXffnXbekaZUT3) \n",
        "\n",
        "\n",
        "---\n",
        "\n",
        "\n",
        "**Let's rerun the same experiment using the cleaned tweet that contains stopwords.**\n"
      ]
    },
    {
      "metadata": {
        "id": "kbI7VtpgGLEE",
        "colab_type": "text"
      },
      "cell_type": "markdown",
      "source": [
        "## **Findings: LSTM RNN round 2**\n",
        "\n",
        "\n",
        "\n"
      ]
    },
    {
      "metadata": {
        "id": "3GQQieFcns0K",
        "colab_type": "text"
      },
      "cell_type": "markdown",
      "source": [
        "It doesn't seem like the presence of stop words impairs the RNN, however there is still a significant number of errors. \n",
        "\n",
        "\n",
        "---\n",
        "\n",
        "\n",
        "\n",
        "![Test Predictions](https://drive.google.com/uc?id=12BPqmTUA2A9L0XdhonarlCDa6KR2tx-t)\n",
        "\n",
        "\n",
        "---\n",
        "\n",
        "\n",
        "\n",
        "![Test Statistics](https://drive.google.com/uc?id=1kpgjbDbEojBBU3eGlnX1ZAu3BDjRbGfi)\n",
        "\n",
        "\n",
        "---\n",
        "\n",
        "\n",
        "\n",
        "**My suspicion is that there is a class imbalance, I'll make a balanced data frame and rerun the code.**\n"
      ]
    },
    {
      "metadata": {
        "id": "PsXke4-KGQ94",
        "colab_type": "code",
        "colab": {}
      },
      "cell_type": "code",
      "source": [
        ""
      ],
      "execution_count": 0,
      "outputs": []
    },
    {
      "metadata": {
        "id": "wUxN4gC5n2Bh",
        "colab_type": "text"
      },
      "cell_type": "markdown",
      "source": [
        "## **Findings: LSTM RNN Final Round**"
      ]
    },
    {
      "metadata": {
        "id": "e0wGh_ZToAPV",
        "colab_type": "text"
      },
      "cell_type": "markdown",
      "source": [
        "Balancing the classes improved the error rate, now our Accuracy actually makes sense. This cell tests a random batch of 30 each time - re-runnning it  several times yielded consistent results. \n",
        "\n",
        "**Unfortunately we still fail to idenify the string \"Mike says this is not good.\" as a negative comment.**\n",
        "\n",
        "![Test Statistics](https://drive.google.com/uc?id=1TUXCwId5UjnCBNW7gbYR_lMKB1RqLTc4) \n",
        "\n",
        "\n"
      ]
    },
    {
      "metadata": {
        "id": "huSnfWX5n_FX",
        "colab_type": "code",
        "colab": {}
      },
      "cell_type": "code",
      "source": [
        ""
      ],
      "execution_count": 0,
      "outputs": []
    },
    {
      "metadata": {
        "id": "Q0lyh_6hrcrn",
        "colab_type": "text"
      },
      "cell_type": "markdown",
      "source": [
        "# **Conclusion**\n",
        "\n",
        "\n",
        "\n",
        "\n",
        "\n",
        "\n"
      ]
    },
    {
      "metadata": {
        "id": "yatHxHvVsvMB",
        "colab_type": "text"
      },
      "cell_type": "markdown",
      "source": [
        "\n",
        "1.  The LSTM RNN was better at classifiying tweets as positive or negative as compared to a Random Forest Classifier.\n",
        "2.  The presence of stop words does not seem to impair the RNN.\n",
        "3. The RNN does struggle with short and simple negative comments. This could be due to:\n",
        "\n",
        "    *   The limited vocabulary present in the corpus.\n",
        "    *   A lack of context or sense.\n",
        " "
      ]
    },
    {
      "metadata": {
        "id": "EXlZWMwnsxQQ",
        "colab_type": "text"
      },
      "cell_type": "markdown",
      "source": [
        "# **Future Work**\n",
        "\n"
      ]
    },
    {
      "metadata": {
        "id": "uKT6ZFfwsxEs",
        "colab_type": "text"
      },
      "cell_type": "markdown",
      "source": [
        "\n",
        "*   The next investigative work I plan to do is to feed the RNN an embedding layer trained with Word2Vec or Sense2Vec weights. This could illuminate if the contextual issue is why the test string failed.\n",
        "*   I would also like to add more data to my dataset, pulling tweets using filters based on product brands and entertainment. \n",
        "\n"
      ]
    },
    {
      "metadata": {
        "id": "tZvFoY_2srte",
        "colab_type": "code",
        "colab": {}
      },
      "cell_type": "code",
      "source": [
        ""
      ],
      "execution_count": 0,
      "outputs": []
    }
  ]
}